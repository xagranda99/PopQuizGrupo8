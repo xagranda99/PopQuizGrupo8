{
  "cells": [
    {
      "cell_type": "markdown",
      "id": "8b6f603c",
      "metadata": {
        "id": "8b6f603c"
      },
      "source": [
        "<center><h1>Mineria de Datos</header1></center>"
      ]
    },
    {
      "cell_type": "markdown",
      "id": "3eb1aaac",
      "metadata": {
        "id": "3eb1aaac"
      },
      "source": [
        "Presentado por: Javier Granda, Bismark Castro, Noelia Anchundia - Grupo 8 <br>\n",
        "Lider: Javier Granda  <br>\n",
        "Fecha: 16/08/2022"
      ]
    },
    {
      "cell_type": "markdown",
      "id": "1dec299b",
      "metadata": {
        "ExecuteTime": {
          "end_time": "2022-03-14T15:14:04.930713Z",
          "start_time": "2022-03-14T15:14:04.921682Z"
        },
        "id": "1dec299b"
      },
      "source": [
        "# Importación de librerias necesarias"
      ]
    },
    {
      "cell_type": "code",
      "source": [
        "#Para esta actividad se importarán las siguientes librerías:\n",
        "\n",
        "\"\"\"Librerias y modulos para el analisis de datos\"\"\"\n",
        "import numpy as np \n",
        "import pandas as pd\n",
        "\n",
        "import seaborn as sns\n",
        "from matplotlib import pyplot as plt\n",
        "plt.style.use('fivethirtyeight')\n",
        "\n",
        "#Modules for Machine Learning and Data Preprocessing\n",
        "from tensorflow import keras\n",
        "from sklearn.metrics import classification_report,confusion_matrix\n",
        "from sklearn.preprocessing import MinMaxScaler\n",
        "from sklearn.model_selection import train_test_split\n",
        "\n",
        "from imblearn.over_sampling import SMOTE\n",
        "%matplotlib inline"
      ],
      "metadata": {
        "id": "3QhXeb4TliPJ"
      },
      "id": "3QhXeb4TliPJ",
      "execution_count": null,
      "outputs": []
    },
    {
      "cell_type": "markdown",
      "id": "6a44b924",
      "metadata": {
        "id": "6a44b924"
      },
      "source": [
        "## Cargar el Dataset"
      ]
    },
    {
      "cell_type": "code",
      "execution_count": 19,
      "id": "3541e808",
      "metadata": {
        "id": "3541e808"
      },
      "outputs": [],
      "source": [
        "#Código para cargar el Dataset\n",
        "df = pd.read_csv('data.csv')"
      ]
    },
    {
      "cell_type": "markdown",
      "id": "93c30410",
      "metadata": {
        "id": "93c30410"
      },
      "source": [
        "## Descripción de la fuente del Dataset"
      ]
    },
    {
      "cell_type": "code",
      "source": [
        "https://www.kaggle.com/code/nandalald/bankruptcy-prediction-using-ann-f1-score-97/notebook\n"
      ],
      "metadata": {
        "id": "JlPRGHdQp1ID"
      },
      "id": "JlPRGHdQp1ID",
      "execution_count": null,
      "outputs": []
    },
    {
      "cell_type": "markdown",
      "id": "db6174bc",
      "metadata": {
        "id": "db6174bc"
      },
      "source": [
        "Haga una descripción de la fuente de dayos utilizada (Incluya los enlaces necesarios)."
      ]
    },
    {
      "cell_type": "markdown",
      "id": "7f868eab",
      "metadata": {
        "id": "7f868eab"
      },
      "source": [
        "## Explique el problema a resolver. \n",
        "Descripción del problema. Tipo de problema (justifique). Variable objetivo, variables de entrada. Utilidad de su posible solución. Elementos adicionales que considere relevantes (no son necesarios contenidos teóricos, sino explicar qué relaciones tratas de comprobar y con qué métodos)."
      ]
    },
    {
      "cell_type": "markdown",
      "id": "a0b719c1",
      "metadata": {
        "id": "a0b719c1"
      },
      "source": [
        "## Caracterización del Dataset\n",
        "\n",
        "Realice una descripción de los datos con:\n",
        "\n",
        ">- Número de instancias en total.\n",
        ">- Número de atributos de entrada, su significado y tipo.\n",
        ">- Estadísticas de la variable objetivo.\n",
        ">- Estadísticas los atributos en relación con la variable objetivo.\n"
      ]
    },
    {
      "cell_type": "code",
      "execution_count": 20,
      "id": "2f0ed5d2",
      "metadata": {
        "id": "2f0ed5d2",
        "colab": {
          "base_uri": "https://localhost:8080/"
        },
        "outputId": "ae0948e9-ace3-4b64-a00e-ef68879ea51e"
      },
      "outputs": [
        {
          "output_type": "execute_result",
          "data": {
            "text/plain": [
              "(6819, 96)"
            ]
          },
          "metadata": {},
          "execution_count": 20
        }
      ],
      "source": [
        "'''Número de instancias en total.'''\n",
        "df.shape\n",
        "'''Número de atributos de entrada, su significado y tipo.'''\n",
        "df.shape\n",
        "'''Estadísticas de la variable objetivo.'''\n",
        "df.shape\n",
        "'''Número de instancias en total.'''\n",
        "df.shape"
      ]
    },
    {
      "cell_type": "markdown",
      "id": "a7ab5e48",
      "metadata": {
        "id": "a7ab5e48"
      },
      "source": [
        "En un par de párrafos haga un resumen de los principales hallazagos encontrados:    "
      ]
    },
    {
      "cell_type": "markdown",
      "id": "0a19e6af",
      "metadata": {
        "id": "0a19e6af"
      },
      "source": [
        "## Preprocesamiento del dataset. Transformaciones previas necesarias para la modelación"
      ]
    },
    {
      "cell_type": "code",
      "execution_count": 21,
      "id": "5a24dac4",
      "metadata": {
        "id": "5a24dac4",
        "colab": {
          "base_uri": "https://localhost:8080/"
        },
        "outputId": "9b77cb83-9345-4875-dc5b-994731e86c15"
      },
      "outputs": [
        {
          "output_type": "execute_result",
          "data": {
            "text/plain": [
              " Operating Expense Rate                   9.990000e+09\n",
              " Research and development expense rate    9.980000e+09\n",
              " Interest-bearing debt interest rate      9.900000e+08\n",
              " Revenue Per Share (Yuan ¥)               3.020000e+09\n",
              " Total Asset Growth Rate                  9.990000e+09\n",
              " Net Value Growth Rate                    9.330000e+09\n",
              " Current Ratio                            2.750000e+09\n",
              " Quick Ratio                              9.230000e+09\n",
              " Total debt/Total net worth               9.940000e+09\n",
              " Accounts Receivable Turnover             9.740000e+09\n",
              " Average Collection Days                  9.730000e+09\n",
              " Inventory Turnover Rate (times)          9.990000e+09\n",
              " Fixed Assets Turnover Frequency          9.990000e+09\n",
              " Revenue per person                       8.810000e+09\n",
              " Allocation rate per person               9.570000e+09\n",
              " Quick Assets/Current Liability           8.820000e+09\n",
              " Cash/Current Liability                   9.650000e+09\n",
              " Inventory/Current Liability              9.910000e+09\n",
              " Long-term Liability to Current Assets    9.540000e+09\n",
              " Current Asset Turnover Rate              1.000000e+10\n",
              " Quick Asset Turnover Rate                1.000000e+10\n",
              " Cash Turnover Rate                       1.000000e+10\n",
              " Fixed Assets to Assets                   8.320000e+09\n",
              " Total assets to GNP price                9.820000e+09\n",
              "dtype: float64"
            ]
          },
          "metadata": {},
          "execution_count": 21
        }
      ],
      "source": [
        "#Transformación de las caracteristicas (mire el apartado Feature engineering del aula virtual)\n",
        "\n",
        "\"\"\"Haremos una escala para los datos, ya que \n",
        "solo queremos usar datos con un rango de 0 a 1.\n",
        "Con ayuda de la funcion max()>1 para que no pase\n",
        "de ese valor.\"\"\"\n",
        "\n",
        "colum = df.max()[df.max()>1]\n",
        "colum"
      ]
    },
    {
      "cell_type": "code",
      "source": [
        "\"\"\"Del mismo modo para que nos datos no sean menores a 0\n",
        "con ayuda de la funcion min()<0.\"\"\"\n",
        "df.min()[df.min()<0]"
      ],
      "metadata": {
        "colab": {
          "base_uri": "https://localhost:8080/"
        },
        "id": "I_eIgiH6qlzx",
        "outputId": "8bea27d6-4be2-491c-d059-999b5e85396a"
      },
      "id": "I_eIgiH6qlzx",
      "execution_count": null,
      "outputs": [
        {
          "output_type": "execute_result",
          "data": {
            "text/plain": [
              "Series([], dtype: float64)"
            ]
          },
          "metadata": {},
          "execution_count": 14
        }
      ]
    },
    {
      "cell_type": "markdown",
      "source": [
        "Como se observa, no se tienen columas con valores menores que 0, por lo que se procedera a usar la funcion MinMaxScalar para realizar el Feature engineering a nuestro dataset."
      ],
      "metadata": {
        "id": "h7w0J2aasXHi"
      },
      "id": "h7w0J2aasXHi"
    },
    {
      "cell_type": "code",
      "source": [
        "\"\"\"Se instancia la funcion MinMaxScaler y se hace uso de la funcion \n",
        "fit_transform para distribuir los valores en un rango de 0 a 1\"\"\"\n",
        "\n",
        "scale = MinMaxScaler()\n",
        "scalled = scale.fit_transform(df[colum.keys()])"
      ],
      "metadata": {
        "id": "iF_Q3qXust3x"
      },
      "id": "iF_Q3qXust3x",
      "execution_count": 22,
      "outputs": []
    },
    {
      "cell_type": "code",
      "source": [
        "\"\"\"Se recorre el array de la columna creada en busca de los \n",
        "datos para escalar y se asignan los nuevos valores con la \n",
        "variable de MinMaxScaler previamente creada.\"\"\"\n",
        "\n",
        "i = 0\n",
        "for col in colum.keys():\n",
        "    df[col] = scalled[:,i]\n",
        "    i += 1"
      ],
      "metadata": {
        "id": "3I1IWeNHsxdS"
      },
      "id": "3I1IWeNHsxdS",
      "execution_count": 24,
      "outputs": []
    },
    {
      "cell_type": "code",
      "source": [
        "\"\"\"Se muestran los datos estadisicos ya estandarizados \n",
        "para tener un contraste con los datos sin estandarizar \n",
        "para tener un mejor analisis de estos.\"\"\"\n",
        "\n",
        "df[colum.keys()].describe()"
      ],
      "metadata": {
        "colab": {
          "base_uri": "https://localhost:8080/",
          "height": 463
        },
        "id": "bR2gG27stWKL",
        "outputId": "ae350918-a539-4381-e2c1-e60fb8a4cc00"
      },
      "id": "bR2gG27stWKL",
      "execution_count": 25,
      "outputs": [
        {
          "output_type": "execute_result",
          "data": {
            "text/plain": [
              "        Operating Expense Rate   Research and development expense rate  \\\n",
              "count             6.819000e+03                            6.819000e+03   \n",
              "mean              1.997345e-01                            1.954336e-01   \n",
              "std               3.240925e-01                            2.603499e-01   \n",
              "min               0.000000e+00                            0.000000e+00   \n",
              "25%               1.568443e-14                            1.284448e-14   \n",
              "50%               2.780369e-14                            5.100200e-02   \n",
              "75%               4.149149e-01                            3.456914e-01   \n",
              "max               1.000000e+00                            1.000000e+00   \n",
              "\n",
              "        Interest-bearing debt interest rate   Revenue Per Share (Yuan ¥)  \\\n",
              "count                          6.819000e+03                 6.819000e+03   \n",
              "mean                           1.661415e-02                 4.399472e-04   \n",
              "std                            1.093687e-01                 1.712155e-02   \n",
              "min                            0.000000e+00                 0.000000e+00   \n",
              "25%                            2.050710e-13                 5.175954e-12   \n",
              "50%                            3.242749e-13                 9.064806e-12   \n",
              "75%                            5.379326e-13                 1.535007e-11   \n",
              "max                            1.000000e+00                 1.000000e+00   \n",
              "\n",
              "        Total Asset Growth Rate   Net Value Growth Rate   Current Ratio  \\\n",
              "count               6819.000000            6.819000e+03    6.819000e+03   \n",
              "mean                   0.551361            1.678684e-04    1.466491e-04   \n",
              "std                    0.290062            1.223573e-02    1.210987e-02   \n",
              "min                    0.000000            0.000000e+00    0.000000e+00   \n",
              "25%                    0.486486            4.726355e-14    2.747290e-12   \n",
              "50%                    0.640641            4.951292e-14    3.849882e-12   \n",
              "75%                    0.739740            5.352220e-14    5.916192e-12   \n",
              "max                    1.000000            1.000000e+00    1.000000e+00   \n",
              "\n",
              "        Quick Ratio   Total debt/Total net worth  \\\n",
              "count  6.819000e+03                 6.819000e+03   \n",
              "mean   9.075401e-04                 4.442995e-04   \n",
              "std    2.650972e-02                 1.694234e-02   \n",
              "min    0.000000e+00                 0.000000e+00   \n",
              "25%    5.120155e-13                 3.025200e-13   \n",
              "50%    8.030847e-13                 5.579763e-13   \n",
              "75%    1.327097e-12                 9.329268e-13   \n",
              "max    1.000000e+00                 1.000000e+00   \n",
              "\n",
              "        Accounts Receivable Turnover  ...   Allocation rate per person  \\\n",
              "count                   6.819000e+03  ...                 6.819000e+03   \n",
              "mean                    1.313111e-03  ...                 1.176153e-03   \n",
              "std                     2.856877e-02  ...                 3.077391e-02   \n",
              "min                     0.000000e+00  ...                 0.000000e+00   \n",
              "25%                     7.290899e-14  ...                 4.305673e-13   \n",
              "50%                     9.936454e-14  ...                 8.196837e-13   \n",
              "75%                     1.493593e-13  ...                 1.569520e-12   \n",
              "max                     1.000000e+00  ...                 1.000000e+00   \n",
              "\n",
              "        Quick Assets/Current Liability   Cash/Current Liability  \\\n",
              "count                     6.819000e+03             6.819000e+03   \n",
              "mean                      4.073585e-04             3.850777e-03   \n",
              "std                       1.945815e-02             5.288610e-02   \n",
              "min                       0.000000e+00             0.000000e+00   \n",
              "25%                       5.940789e-13             2.044567e-13   \n",
              "50%                       8.967005e-13             5.081748e-13   \n",
              "75%                       1.468357e-12             1.327002e-12   \n",
              "max                       1.000000e+00             1.000000e+00   \n",
              "\n",
              "        Inventory/Current Liability   Long-term Liability to Current Assets  \\\n",
              "count                  6.819000e+03                            6.819000e+03   \n",
              "mean                   5.631363e-03                            5.677153e-03   \n",
              "std                    5.873376e-02                            5.977679e-02   \n",
              "min                    0.000000e+00                            0.000000e+00   \n",
              "25%                    3.191875e-13                            0.000000e+00   \n",
              "50%                    6.556342e-13                            2.069831e-13   \n",
              "75%                    1.124800e-12                            9.440195e-13   \n",
              "max                    1.000000e+00                            1.000000e+00   \n",
              "\n",
              "        Current Asset Turnover Rate   Quick Asset Turnover Rate  \\\n",
              "count                  6.819000e+03                6.819000e+03   \n",
              "mean                   1.195856e-01                2.163735e-01   \n",
              "std                    2.821161e-01                3.374944e-01   \n",
              "min                    0.000000e+00                0.000000e+00   \n",
              "25%                    1.456236e-14                1.417149e-14   \n",
              "50%                    1.987816e-14                2.247728e-14   \n",
              "75%                    4.525945e-14                4.900000e-01   \n",
              "max                    1.000000e+00                1.000000e+00   \n",
              "\n",
              "        Cash Turnover Rate   Fixed Assets to Assets  \\\n",
              "count         6.819000e+03             6.819000e+03   \n",
              "mean          2.471977e-01             1.466491e-04   \n",
              "std           2.938623e-01             1.210987e-02   \n",
              "min           0.000000e+00             0.000000e+00   \n",
              "25%           2.735337e-14             1.025966e-11   \n",
              "50%           1.080000e-01             2.366359e-11   \n",
              "75%           4.510000e-01             4.473557e-11   \n",
              "max           1.000000e+00             1.000000e+00   \n",
              "\n",
              "        Total assets to GNP price  \n",
              "count                6.819000e+03  \n",
              "mean                 1.897089e-03  \n",
              "std                  3.833504e-02  \n",
              "min                  0.000000e+00  \n",
              "25%                  9.201838e-14  \n",
              "50%                  2.123435e-13  \n",
              "75%                  5.366372e-13  \n",
              "max                  1.000000e+00  \n",
              "\n",
              "[8 rows x 24 columns]"
            ],
            "text/html": [
              "\n",
              "  <div id=\"df-b549a0d7-5552-4c0a-bcc4-565571eecae1\">\n",
              "    <div class=\"colab-df-container\">\n",
              "      <div>\n",
              "<style scoped>\n",
              "    .dataframe tbody tr th:only-of-type {\n",
              "        vertical-align: middle;\n",
              "    }\n",
              "\n",
              "    .dataframe tbody tr th {\n",
              "        vertical-align: top;\n",
              "    }\n",
              "\n",
              "    .dataframe thead th {\n",
              "        text-align: right;\n",
              "    }\n",
              "</style>\n",
              "<table border=\"1\" class=\"dataframe\">\n",
              "  <thead>\n",
              "    <tr style=\"text-align: right;\">\n",
              "      <th></th>\n",
              "      <th>Operating Expense Rate</th>\n",
              "      <th>Research and development expense rate</th>\n",
              "      <th>Interest-bearing debt interest rate</th>\n",
              "      <th>Revenue Per Share (Yuan ¥)</th>\n",
              "      <th>Total Asset Growth Rate</th>\n",
              "      <th>Net Value Growth Rate</th>\n",
              "      <th>Current Ratio</th>\n",
              "      <th>Quick Ratio</th>\n",
              "      <th>Total debt/Total net worth</th>\n",
              "      <th>Accounts Receivable Turnover</th>\n",
              "      <th>...</th>\n",
              "      <th>Allocation rate per person</th>\n",
              "      <th>Quick Assets/Current Liability</th>\n",
              "      <th>Cash/Current Liability</th>\n",
              "      <th>Inventory/Current Liability</th>\n",
              "      <th>Long-term Liability to Current Assets</th>\n",
              "      <th>Current Asset Turnover Rate</th>\n",
              "      <th>Quick Asset Turnover Rate</th>\n",
              "      <th>Cash Turnover Rate</th>\n",
              "      <th>Fixed Assets to Assets</th>\n",
              "      <th>Total assets to GNP price</th>\n",
              "    </tr>\n",
              "  </thead>\n",
              "  <tbody>\n",
              "    <tr>\n",
              "      <th>count</th>\n",
              "      <td>6.819000e+03</td>\n",
              "      <td>6.819000e+03</td>\n",
              "      <td>6.819000e+03</td>\n",
              "      <td>6.819000e+03</td>\n",
              "      <td>6819.000000</td>\n",
              "      <td>6.819000e+03</td>\n",
              "      <td>6.819000e+03</td>\n",
              "      <td>6.819000e+03</td>\n",
              "      <td>6.819000e+03</td>\n",
              "      <td>6.819000e+03</td>\n",
              "      <td>...</td>\n",
              "      <td>6.819000e+03</td>\n",
              "      <td>6.819000e+03</td>\n",
              "      <td>6.819000e+03</td>\n",
              "      <td>6.819000e+03</td>\n",
              "      <td>6.819000e+03</td>\n",
              "      <td>6.819000e+03</td>\n",
              "      <td>6.819000e+03</td>\n",
              "      <td>6.819000e+03</td>\n",
              "      <td>6.819000e+03</td>\n",
              "      <td>6.819000e+03</td>\n",
              "    </tr>\n",
              "    <tr>\n",
              "      <th>mean</th>\n",
              "      <td>1.997345e-01</td>\n",
              "      <td>1.954336e-01</td>\n",
              "      <td>1.661415e-02</td>\n",
              "      <td>4.399472e-04</td>\n",
              "      <td>0.551361</td>\n",
              "      <td>1.678684e-04</td>\n",
              "      <td>1.466491e-04</td>\n",
              "      <td>9.075401e-04</td>\n",
              "      <td>4.442995e-04</td>\n",
              "      <td>1.313111e-03</td>\n",
              "      <td>...</td>\n",
              "      <td>1.176153e-03</td>\n",
              "      <td>4.073585e-04</td>\n",
              "      <td>3.850777e-03</td>\n",
              "      <td>5.631363e-03</td>\n",
              "      <td>5.677153e-03</td>\n",
              "      <td>1.195856e-01</td>\n",
              "      <td>2.163735e-01</td>\n",
              "      <td>2.471977e-01</td>\n",
              "      <td>1.466491e-04</td>\n",
              "      <td>1.897089e-03</td>\n",
              "    </tr>\n",
              "    <tr>\n",
              "      <th>std</th>\n",
              "      <td>3.240925e-01</td>\n",
              "      <td>2.603499e-01</td>\n",
              "      <td>1.093687e-01</td>\n",
              "      <td>1.712155e-02</td>\n",
              "      <td>0.290062</td>\n",
              "      <td>1.223573e-02</td>\n",
              "      <td>1.210987e-02</td>\n",
              "      <td>2.650972e-02</td>\n",
              "      <td>1.694234e-02</td>\n",
              "      <td>2.856877e-02</td>\n",
              "      <td>...</td>\n",
              "      <td>3.077391e-02</td>\n",
              "      <td>1.945815e-02</td>\n",
              "      <td>5.288610e-02</td>\n",
              "      <td>5.873376e-02</td>\n",
              "      <td>5.977679e-02</td>\n",
              "      <td>2.821161e-01</td>\n",
              "      <td>3.374944e-01</td>\n",
              "      <td>2.938623e-01</td>\n",
              "      <td>1.210987e-02</td>\n",
              "      <td>3.833504e-02</td>\n",
              "    </tr>\n",
              "    <tr>\n",
              "      <th>min</th>\n",
              "      <td>0.000000e+00</td>\n",
              "      <td>0.000000e+00</td>\n",
              "      <td>0.000000e+00</td>\n",
              "      <td>0.000000e+00</td>\n",
              "      <td>0.000000</td>\n",
              "      <td>0.000000e+00</td>\n",
              "      <td>0.000000e+00</td>\n",
              "      <td>0.000000e+00</td>\n",
              "      <td>0.000000e+00</td>\n",
              "      <td>0.000000e+00</td>\n",
              "      <td>...</td>\n",
              "      <td>0.000000e+00</td>\n",
              "      <td>0.000000e+00</td>\n",
              "      <td>0.000000e+00</td>\n",
              "      <td>0.000000e+00</td>\n",
              "      <td>0.000000e+00</td>\n",
              "      <td>0.000000e+00</td>\n",
              "      <td>0.000000e+00</td>\n",
              "      <td>0.000000e+00</td>\n",
              "      <td>0.000000e+00</td>\n",
              "      <td>0.000000e+00</td>\n",
              "    </tr>\n",
              "    <tr>\n",
              "      <th>25%</th>\n",
              "      <td>1.568443e-14</td>\n",
              "      <td>1.284448e-14</td>\n",
              "      <td>2.050710e-13</td>\n",
              "      <td>5.175954e-12</td>\n",
              "      <td>0.486486</td>\n",
              "      <td>4.726355e-14</td>\n",
              "      <td>2.747290e-12</td>\n",
              "      <td>5.120155e-13</td>\n",
              "      <td>3.025200e-13</td>\n",
              "      <td>7.290899e-14</td>\n",
              "      <td>...</td>\n",
              "      <td>4.305673e-13</td>\n",
              "      <td>5.940789e-13</td>\n",
              "      <td>2.044567e-13</td>\n",
              "      <td>3.191875e-13</td>\n",
              "      <td>0.000000e+00</td>\n",
              "      <td>1.456236e-14</td>\n",
              "      <td>1.417149e-14</td>\n",
              "      <td>2.735337e-14</td>\n",
              "      <td>1.025966e-11</td>\n",
              "      <td>9.201838e-14</td>\n",
              "    </tr>\n",
              "    <tr>\n",
              "      <th>50%</th>\n",
              "      <td>2.780369e-14</td>\n",
              "      <td>5.100200e-02</td>\n",
              "      <td>3.242749e-13</td>\n",
              "      <td>9.064806e-12</td>\n",
              "      <td>0.640641</td>\n",
              "      <td>4.951292e-14</td>\n",
              "      <td>3.849882e-12</td>\n",
              "      <td>8.030847e-13</td>\n",
              "      <td>5.579763e-13</td>\n",
              "      <td>9.936454e-14</td>\n",
              "      <td>...</td>\n",
              "      <td>8.196837e-13</td>\n",
              "      <td>8.967005e-13</td>\n",
              "      <td>5.081748e-13</td>\n",
              "      <td>6.556342e-13</td>\n",
              "      <td>2.069831e-13</td>\n",
              "      <td>1.987816e-14</td>\n",
              "      <td>2.247728e-14</td>\n",
              "      <td>1.080000e-01</td>\n",
              "      <td>2.366359e-11</td>\n",
              "      <td>2.123435e-13</td>\n",
              "    </tr>\n",
              "    <tr>\n",
              "      <th>75%</th>\n",
              "      <td>4.149149e-01</td>\n",
              "      <td>3.456914e-01</td>\n",
              "      <td>5.379326e-13</td>\n",
              "      <td>1.535007e-11</td>\n",
              "      <td>0.739740</td>\n",
              "      <td>5.352220e-14</td>\n",
              "      <td>5.916192e-12</td>\n",
              "      <td>1.327097e-12</td>\n",
              "      <td>9.329268e-13</td>\n",
              "      <td>1.493593e-13</td>\n",
              "      <td>...</td>\n",
              "      <td>1.569520e-12</td>\n",
              "      <td>1.468357e-12</td>\n",
              "      <td>1.327002e-12</td>\n",
              "      <td>1.124800e-12</td>\n",
              "      <td>9.440195e-13</td>\n",
              "      <td>4.525945e-14</td>\n",
              "      <td>4.900000e-01</td>\n",
              "      <td>4.510000e-01</td>\n",
              "      <td>4.473557e-11</td>\n",
              "      <td>5.366372e-13</td>\n",
              "    </tr>\n",
              "    <tr>\n",
              "      <th>max</th>\n",
              "      <td>1.000000e+00</td>\n",
              "      <td>1.000000e+00</td>\n",
              "      <td>1.000000e+00</td>\n",
              "      <td>1.000000e+00</td>\n",
              "      <td>1.000000</td>\n",
              "      <td>1.000000e+00</td>\n",
              "      <td>1.000000e+00</td>\n",
              "      <td>1.000000e+00</td>\n",
              "      <td>1.000000e+00</td>\n",
              "      <td>1.000000e+00</td>\n",
              "      <td>...</td>\n",
              "      <td>1.000000e+00</td>\n",
              "      <td>1.000000e+00</td>\n",
              "      <td>1.000000e+00</td>\n",
              "      <td>1.000000e+00</td>\n",
              "      <td>1.000000e+00</td>\n",
              "      <td>1.000000e+00</td>\n",
              "      <td>1.000000e+00</td>\n",
              "      <td>1.000000e+00</td>\n",
              "      <td>1.000000e+00</td>\n",
              "      <td>1.000000e+00</td>\n",
              "    </tr>\n",
              "  </tbody>\n",
              "</table>\n",
              "<p>8 rows × 24 columns</p>\n",
              "</div>\n",
              "      <button class=\"colab-df-convert\" onclick=\"convertToInteractive('df-b549a0d7-5552-4c0a-bcc4-565571eecae1')\"\n",
              "              title=\"Convert this dataframe to an interactive table.\"\n",
              "              style=\"display:none;\">\n",
              "        \n",
              "  <svg xmlns=\"http://www.w3.org/2000/svg\" height=\"24px\"viewBox=\"0 0 24 24\"\n",
              "       width=\"24px\">\n",
              "    <path d=\"M0 0h24v24H0V0z\" fill=\"none\"/>\n",
              "    <path d=\"M18.56 5.44l.94 2.06.94-2.06 2.06-.94-2.06-.94-.94-2.06-.94 2.06-2.06.94zm-11 1L8.5 8.5l.94-2.06 2.06-.94-2.06-.94L8.5 2.5l-.94 2.06-2.06.94zm10 10l.94 2.06.94-2.06 2.06-.94-2.06-.94-.94-2.06-.94 2.06-2.06.94z\"/><path d=\"M17.41 7.96l-1.37-1.37c-.4-.4-.92-.59-1.43-.59-.52 0-1.04.2-1.43.59L10.3 9.45l-7.72 7.72c-.78.78-.78 2.05 0 2.83L4 21.41c.39.39.9.59 1.41.59.51 0 1.02-.2 1.41-.59l7.78-7.78 2.81-2.81c.8-.78.8-2.07 0-2.86zM5.41 20L4 18.59l7.72-7.72 1.47 1.35L5.41 20z\"/>\n",
              "  </svg>\n",
              "      </button>\n",
              "      \n",
              "  <style>\n",
              "    .colab-df-container {\n",
              "      display:flex;\n",
              "      flex-wrap:wrap;\n",
              "      gap: 12px;\n",
              "    }\n",
              "\n",
              "    .colab-df-convert {\n",
              "      background-color: #E8F0FE;\n",
              "      border: none;\n",
              "      border-radius: 50%;\n",
              "      cursor: pointer;\n",
              "      display: none;\n",
              "      fill: #1967D2;\n",
              "      height: 32px;\n",
              "      padding: 0 0 0 0;\n",
              "      width: 32px;\n",
              "    }\n",
              "\n",
              "    .colab-df-convert:hover {\n",
              "      background-color: #E2EBFA;\n",
              "      box-shadow: 0px 1px 2px rgba(60, 64, 67, 0.3), 0px 1px 3px 1px rgba(60, 64, 67, 0.15);\n",
              "      fill: #174EA6;\n",
              "    }\n",
              "\n",
              "    [theme=dark] .colab-df-convert {\n",
              "      background-color: #3B4455;\n",
              "      fill: #D2E3FC;\n",
              "    }\n",
              "\n",
              "    [theme=dark] .colab-df-convert:hover {\n",
              "      background-color: #434B5C;\n",
              "      box-shadow: 0px 1px 3px 1px rgba(0, 0, 0, 0.15);\n",
              "      filter: drop-shadow(0px 1px 2px rgba(0, 0, 0, 0.3));\n",
              "      fill: #FFFFFF;\n",
              "    }\n",
              "  </style>\n",
              "\n",
              "      <script>\n",
              "        const buttonEl =\n",
              "          document.querySelector('#df-b549a0d7-5552-4c0a-bcc4-565571eecae1 button.colab-df-convert');\n",
              "        buttonEl.style.display =\n",
              "          google.colab.kernel.accessAllowed ? 'block' : 'none';\n",
              "\n",
              "        async function convertToInteractive(key) {\n",
              "          const element = document.querySelector('#df-b549a0d7-5552-4c0a-bcc4-565571eecae1');\n",
              "          const dataTable =\n",
              "            await google.colab.kernel.invokeFunction('convertToInteractive',\n",
              "                                                     [key], {});\n",
              "          if (!dataTable) return;\n",
              "\n",
              "          const docLinkHtml = 'Like what you see? Visit the ' +\n",
              "            '<a target=\"_blank\" href=https://colab.research.google.com/notebooks/data_table.ipynb>data table notebook</a>'\n",
              "            + ' to learn more about interactive tables.';\n",
              "          element.innerHTML = '';\n",
              "          dataTable['output_type'] = 'display_data';\n",
              "          await google.colab.output.renderOutput(dataTable, element);\n",
              "          const docLink = document.createElement('div');\n",
              "          docLink.innerHTML = docLinkHtml;\n",
              "          element.appendChild(docLink);\n",
              "        }\n",
              "      </script>\n",
              "    </div>\n",
              "  </div>\n",
              "  "
            ]
          },
          "metadata": {},
          "execution_count": 25
        }
      ]
    },
    {
      "cell_type": "code",
      "source": [
        "\"\"\"Por ultimo comprobamos el dataset para saber si la scala tuvo exito o no.\"\"\"\n",
        "df.sample(10)"
      ],
      "metadata": {
        "colab": {
          "base_uri": "https://localhost:8080/",
          "height": 717
        },
        "id": "MKcXEi30te1w",
        "outputId": "0eb928d7-9b7a-4a87-dfc6-9f1d9b88529d"
      },
      "id": "MKcXEi30te1w",
      "execution_count": 27,
      "outputs": [
        {
          "output_type": "execute_result",
          "data": {
            "text/plain": [
              "      Bankrupt?   ROA(C) before interest and depreciation before interest  \\\n",
              "1102          0                                           0.509384          \n",
              "5858          0                                           0.548871          \n",
              "1609          0                                           0.514064          \n",
              "4860          0                                           0.560523          \n",
              "1907          0                                           0.569103          \n",
              "5779          0                                           0.577292          \n",
              "4161          0                                           0.499829          \n",
              "4200          0                                           0.604982          \n",
              "4802          0                                           0.515868          \n",
              "1608          0                                           0.490274          \n",
              "\n",
              "       ROA(A) before interest and % after tax  \\\n",
              "1102                                 0.562800   \n",
              "5858                                 0.613389   \n",
              "1609                                 0.571686   \n",
              "4860                                 0.605102   \n",
              "1907                                 0.596925   \n",
              "5779                                 0.634649   \n",
              "4161                                 0.558221   \n",
              "4200                                 0.653020   \n",
              "4802                                 0.575938   \n",
              "1608                                 0.475687   \n",
              "\n",
              "       ROA(B) before interest and depreciation after tax  \\\n",
              "1102                                           0.556936    \n",
              "5858                                           0.605439    \n",
              "1609                                           0.556025    \n",
              "4860                                           0.600835    \n",
              "1907                                           0.601959    \n",
              "5779                                           0.620376    \n",
              "4161                                           0.547995    \n",
              "4200                                           0.636169    \n",
              "4802                                           0.561593    \n",
              "1608                                           0.522619    \n",
              "\n",
              "       Operating Gross Margin   Realized Sales Gross Margin  \\\n",
              "1102                 0.613341                      0.613341   \n",
              "5858                 0.599324                      0.599338   \n",
              "1609                 0.607042                      0.607042   \n",
              "4860                 0.615071                      0.614761   \n",
              "1907                 0.617824                      0.617824   \n",
              "5779                 0.608253                      0.608246   \n",
              "4161                 0.600535                      0.600535   \n",
              "4200                 0.603281                      0.603281   \n",
              "4802                 0.601717                      0.601717   \n",
              "1608                 0.564739                      0.564739   \n",
              "\n",
              "       Operating Profit Rate   Pre-tax net Interest Rate  \\\n",
              "1102                0.999054                    0.797486   \n",
              "5858                0.999018                    0.797519   \n",
              "1609                0.999056                    0.797470   \n",
              "4860                0.999174                    0.797612   \n",
              "1907                0.999182                    0.797646   \n",
              "5779                0.999081                    0.797578   \n",
              "4161                0.998993                    0.797421   \n",
              "4200                0.999084                    0.797546   \n",
              "4802                0.998999                    0.797428   \n",
              "1608                0.998295                    0.796458   \n",
              "\n",
              "       After-tax net Interest Rate  \\\n",
              "1102                      0.809397   \n",
              "5858                      0.809431   \n",
              "1609                      0.809369   \n",
              "4860                      0.809485   \n",
              "1907                      0.809496   \n",
              "5779                      0.809465   \n",
              "4161                      0.809340   \n",
              "4200                      0.809427   \n",
              "4802                      0.809342   \n",
              "1608                      0.808445   \n",
              "\n",
              "       Non-industry income and expenditure/revenue  ...  \\\n",
              "1102                                      0.303515  ...   \n",
              "5858                                      0.303648  ...   \n",
              "1609                                      0.303482  ...   \n",
              "4860                                      0.303485  ...   \n",
              "1907                                      0.303526  ...   \n",
              "5779                                      0.303621  ...   \n",
              "4161                                      0.303531  ...   \n",
              "4200                                      0.303558  ...   \n",
              "4802                                      0.303530  ...   \n",
              "1608                                      0.303308  ...   \n",
              "\n",
              "       Net Income to Total Assets   Total assets to GNP price  \\\n",
              "1102                     0.811072                1.467869e-13   \n",
              "5858                     0.835290                6.097726e-13   \n",
              "1609                     0.817060                1.402637e-13   \n",
              "4860                     0.834311                9.343685e-14   \n",
              "1907                     0.833573                7.122999e-14   \n",
              "5779                     0.848214                2.326454e-13   \n",
              "4161                     0.812579                7.823458e-13   \n",
              "4200                     0.860446                2.345620e-13   \n",
              "4802                     0.816743                2.605469e-12   \n",
              "1608                     0.758891                9.754311e-13   \n",
              "\n",
              "       No-credit Interval   Gross Profit to Sales  \\\n",
              "1102             0.623482                0.613339   \n",
              "5858             0.624580                0.599325   \n",
              "1609             0.623708                0.607040   \n",
              "4860             0.624064                0.615073   \n",
              "1907             0.623950                0.617821   \n",
              "5779             0.624002                0.608255   \n",
              "4161             0.623989                0.600532   \n",
              "4200             0.624351                0.603276   \n",
              "4802             0.623986                0.601716   \n",
              "1608             0.623718                0.564734   \n",
              "\n",
              "       Net Income to Stockholder's Equity   Liability to Equity  \\\n",
              "1102                             0.841611              0.283031   \n",
              "5858                             0.842915              0.278597   \n",
              "1609                             0.842043              0.281735   \n",
              "4860                             0.842645              0.277852   \n",
              "1907                             0.842411              0.277148   \n",
              "5779                             0.843327              0.277128   \n",
              "4161                             0.841407              0.279911   \n",
              "4200                             0.845163              0.279512   \n",
              "4802                             0.842609              0.285864   \n",
              "1608                             0.837783              0.276844   \n",
              "\n",
              "       Degree of Financial Leverage (DFL)  \\\n",
              "1102                             0.027010   \n",
              "5858                             0.026903   \n",
              "1609                             0.026966   \n",
              "4860                             0.026802   \n",
              "1907                             0.026799   \n",
              "5779                             0.026791   \n",
              "4161                             0.026971   \n",
              "4200                             0.026803   \n",
              "4802                             0.026869   \n",
              "1608                             0.026702   \n",
              "\n",
              "       Interest Coverage Ratio (Interest expense to EBIT)   Net Income Flag  \\\n",
              "1102                                           0.566024                   1   \n",
              "5858                                           0.565641                   1   \n",
              "1609                                           0.565875                   1   \n",
              "4860                                           0.565211                   1   \n",
              "1907                                           0.565196                   1   \n",
              "5779                                           0.565159                   1   \n",
              "4161                                           0.565890                   1   \n",
              "4200                                           0.565215                   1   \n",
              "4802                                           0.565505                   1   \n",
              "1608                                           0.564697                   1   \n",
              "\n",
              "       Equity to Liability  \n",
              "1102              0.021826  \n",
              "5858              0.034952  \n",
              "1609              0.023956  \n",
              "4860              0.040762  \n",
              "1907              0.049478  \n",
              "5779              0.049796  \n",
              "4161              0.028743  \n",
              "4200              0.030271  \n",
              "4802              0.018888  \n",
              "1608              0.054984  \n",
              "\n",
              "[10 rows x 96 columns]"
            ],
            "text/html": [
              "\n",
              "  <div id=\"df-40a84699-e671-4427-9bc1-988a2aff23e1\">\n",
              "    <div class=\"colab-df-container\">\n",
              "      <div>\n",
              "<style scoped>\n",
              "    .dataframe tbody tr th:only-of-type {\n",
              "        vertical-align: middle;\n",
              "    }\n",
              "\n",
              "    .dataframe tbody tr th {\n",
              "        vertical-align: top;\n",
              "    }\n",
              "\n",
              "    .dataframe thead th {\n",
              "        text-align: right;\n",
              "    }\n",
              "</style>\n",
              "<table border=\"1\" class=\"dataframe\">\n",
              "  <thead>\n",
              "    <tr style=\"text-align: right;\">\n",
              "      <th></th>\n",
              "      <th>Bankrupt?</th>\n",
              "      <th>ROA(C) before interest and depreciation before interest</th>\n",
              "      <th>ROA(A) before interest and % after tax</th>\n",
              "      <th>ROA(B) before interest and depreciation after tax</th>\n",
              "      <th>Operating Gross Margin</th>\n",
              "      <th>Realized Sales Gross Margin</th>\n",
              "      <th>Operating Profit Rate</th>\n",
              "      <th>Pre-tax net Interest Rate</th>\n",
              "      <th>After-tax net Interest Rate</th>\n",
              "      <th>Non-industry income and expenditure/revenue</th>\n",
              "      <th>...</th>\n",
              "      <th>Net Income to Total Assets</th>\n",
              "      <th>Total assets to GNP price</th>\n",
              "      <th>No-credit Interval</th>\n",
              "      <th>Gross Profit to Sales</th>\n",
              "      <th>Net Income to Stockholder's Equity</th>\n",
              "      <th>Liability to Equity</th>\n",
              "      <th>Degree of Financial Leverage (DFL)</th>\n",
              "      <th>Interest Coverage Ratio (Interest expense to EBIT)</th>\n",
              "      <th>Net Income Flag</th>\n",
              "      <th>Equity to Liability</th>\n",
              "    </tr>\n",
              "  </thead>\n",
              "  <tbody>\n",
              "    <tr>\n",
              "      <th>1102</th>\n",
              "      <td>0</td>\n",
              "      <td>0.509384</td>\n",
              "      <td>0.562800</td>\n",
              "      <td>0.556936</td>\n",
              "      <td>0.613341</td>\n",
              "      <td>0.613341</td>\n",
              "      <td>0.999054</td>\n",
              "      <td>0.797486</td>\n",
              "      <td>0.809397</td>\n",
              "      <td>0.303515</td>\n",
              "      <td>...</td>\n",
              "      <td>0.811072</td>\n",
              "      <td>1.467869e-13</td>\n",
              "      <td>0.623482</td>\n",
              "      <td>0.613339</td>\n",
              "      <td>0.841611</td>\n",
              "      <td>0.283031</td>\n",
              "      <td>0.027010</td>\n",
              "      <td>0.566024</td>\n",
              "      <td>1</td>\n",
              "      <td>0.021826</td>\n",
              "    </tr>\n",
              "    <tr>\n",
              "      <th>5858</th>\n",
              "      <td>0</td>\n",
              "      <td>0.548871</td>\n",
              "      <td>0.613389</td>\n",
              "      <td>0.605439</td>\n",
              "      <td>0.599324</td>\n",
              "      <td>0.599338</td>\n",
              "      <td>0.999018</td>\n",
              "      <td>0.797519</td>\n",
              "      <td>0.809431</td>\n",
              "      <td>0.303648</td>\n",
              "      <td>...</td>\n",
              "      <td>0.835290</td>\n",
              "      <td>6.097726e-13</td>\n",
              "      <td>0.624580</td>\n",
              "      <td>0.599325</td>\n",
              "      <td>0.842915</td>\n",
              "      <td>0.278597</td>\n",
              "      <td>0.026903</td>\n",
              "      <td>0.565641</td>\n",
              "      <td>1</td>\n",
              "      <td>0.034952</td>\n",
              "    </tr>\n",
              "    <tr>\n",
              "      <th>1609</th>\n",
              "      <td>0</td>\n",
              "      <td>0.514064</td>\n",
              "      <td>0.571686</td>\n",
              "      <td>0.556025</td>\n",
              "      <td>0.607042</td>\n",
              "      <td>0.607042</td>\n",
              "      <td>0.999056</td>\n",
              "      <td>0.797470</td>\n",
              "      <td>0.809369</td>\n",
              "      <td>0.303482</td>\n",
              "      <td>...</td>\n",
              "      <td>0.817060</td>\n",
              "      <td>1.402637e-13</td>\n",
              "      <td>0.623708</td>\n",
              "      <td>0.607040</td>\n",
              "      <td>0.842043</td>\n",
              "      <td>0.281735</td>\n",
              "      <td>0.026966</td>\n",
              "      <td>0.565875</td>\n",
              "      <td>1</td>\n",
              "      <td>0.023956</td>\n",
              "    </tr>\n",
              "    <tr>\n",
              "      <th>4860</th>\n",
              "      <td>0</td>\n",
              "      <td>0.560523</td>\n",
              "      <td>0.605102</td>\n",
              "      <td>0.600835</td>\n",
              "      <td>0.615071</td>\n",
              "      <td>0.614761</td>\n",
              "      <td>0.999174</td>\n",
              "      <td>0.797612</td>\n",
              "      <td>0.809485</td>\n",
              "      <td>0.303485</td>\n",
              "      <td>...</td>\n",
              "      <td>0.834311</td>\n",
              "      <td>9.343685e-14</td>\n",
              "      <td>0.624064</td>\n",
              "      <td>0.615073</td>\n",
              "      <td>0.842645</td>\n",
              "      <td>0.277852</td>\n",
              "      <td>0.026802</td>\n",
              "      <td>0.565211</td>\n",
              "      <td>1</td>\n",
              "      <td>0.040762</td>\n",
              "    </tr>\n",
              "    <tr>\n",
              "      <th>1907</th>\n",
              "      <td>0</td>\n",
              "      <td>0.569103</td>\n",
              "      <td>0.596925</td>\n",
              "      <td>0.601959</td>\n",
              "      <td>0.617824</td>\n",
              "      <td>0.617824</td>\n",
              "      <td>0.999182</td>\n",
              "      <td>0.797646</td>\n",
              "      <td>0.809496</td>\n",
              "      <td>0.303526</td>\n",
              "      <td>...</td>\n",
              "      <td>0.833573</td>\n",
              "      <td>7.122999e-14</td>\n",
              "      <td>0.623950</td>\n",
              "      <td>0.617821</td>\n",
              "      <td>0.842411</td>\n",
              "      <td>0.277148</td>\n",
              "      <td>0.026799</td>\n",
              "      <td>0.565196</td>\n",
              "      <td>1</td>\n",
              "      <td>0.049478</td>\n",
              "    </tr>\n",
              "    <tr>\n",
              "      <th>5779</th>\n",
              "      <td>0</td>\n",
              "      <td>0.577292</td>\n",
              "      <td>0.634649</td>\n",
              "      <td>0.620376</td>\n",
              "      <td>0.608253</td>\n",
              "      <td>0.608246</td>\n",
              "      <td>0.999081</td>\n",
              "      <td>0.797578</td>\n",
              "      <td>0.809465</td>\n",
              "      <td>0.303621</td>\n",
              "      <td>...</td>\n",
              "      <td>0.848214</td>\n",
              "      <td>2.326454e-13</td>\n",
              "      <td>0.624002</td>\n",
              "      <td>0.608255</td>\n",
              "      <td>0.843327</td>\n",
              "      <td>0.277128</td>\n",
              "      <td>0.026791</td>\n",
              "      <td>0.565159</td>\n",
              "      <td>1</td>\n",
              "      <td>0.049796</td>\n",
              "    </tr>\n",
              "    <tr>\n",
              "      <th>4161</th>\n",
              "      <td>0</td>\n",
              "      <td>0.499829</td>\n",
              "      <td>0.558221</td>\n",
              "      <td>0.547995</td>\n",
              "      <td>0.600535</td>\n",
              "      <td>0.600535</td>\n",
              "      <td>0.998993</td>\n",
              "      <td>0.797421</td>\n",
              "      <td>0.809340</td>\n",
              "      <td>0.303531</td>\n",
              "      <td>...</td>\n",
              "      <td>0.812579</td>\n",
              "      <td>7.823458e-13</td>\n",
              "      <td>0.623989</td>\n",
              "      <td>0.600532</td>\n",
              "      <td>0.841407</td>\n",
              "      <td>0.279911</td>\n",
              "      <td>0.026971</td>\n",
              "      <td>0.565890</td>\n",
              "      <td>1</td>\n",
              "      <td>0.028743</td>\n",
              "    </tr>\n",
              "    <tr>\n",
              "      <th>4200</th>\n",
              "      <td>0</td>\n",
              "      <td>0.604982</td>\n",
              "      <td>0.653020</td>\n",
              "      <td>0.636169</td>\n",
              "      <td>0.603281</td>\n",
              "      <td>0.603281</td>\n",
              "      <td>0.999084</td>\n",
              "      <td>0.797546</td>\n",
              "      <td>0.809427</td>\n",
              "      <td>0.303558</td>\n",
              "      <td>...</td>\n",
              "      <td>0.860446</td>\n",
              "      <td>2.345620e-13</td>\n",
              "      <td>0.624351</td>\n",
              "      <td>0.603276</td>\n",
              "      <td>0.845163</td>\n",
              "      <td>0.279512</td>\n",
              "      <td>0.026803</td>\n",
              "      <td>0.565215</td>\n",
              "      <td>1</td>\n",
              "      <td>0.030271</td>\n",
              "    </tr>\n",
              "    <tr>\n",
              "      <th>4802</th>\n",
              "      <td>0</td>\n",
              "      <td>0.515868</td>\n",
              "      <td>0.575938</td>\n",
              "      <td>0.561593</td>\n",
              "      <td>0.601717</td>\n",
              "      <td>0.601717</td>\n",
              "      <td>0.998999</td>\n",
              "      <td>0.797428</td>\n",
              "      <td>0.809342</td>\n",
              "      <td>0.303530</td>\n",
              "      <td>...</td>\n",
              "      <td>0.816743</td>\n",
              "      <td>2.605469e-12</td>\n",
              "      <td>0.623986</td>\n",
              "      <td>0.601716</td>\n",
              "      <td>0.842609</td>\n",
              "      <td>0.285864</td>\n",
              "      <td>0.026869</td>\n",
              "      <td>0.565505</td>\n",
              "      <td>1</td>\n",
              "      <td>0.018888</td>\n",
              "    </tr>\n",
              "    <tr>\n",
              "      <th>1608</th>\n",
              "      <td>0</td>\n",
              "      <td>0.490274</td>\n",
              "      <td>0.475687</td>\n",
              "      <td>0.522619</td>\n",
              "      <td>0.564739</td>\n",
              "      <td>0.564739</td>\n",
              "      <td>0.998295</td>\n",
              "      <td>0.796458</td>\n",
              "      <td>0.808445</td>\n",
              "      <td>0.303308</td>\n",
              "      <td>...</td>\n",
              "      <td>0.758891</td>\n",
              "      <td>9.754311e-13</td>\n",
              "      <td>0.623718</td>\n",
              "      <td>0.564734</td>\n",
              "      <td>0.837783</td>\n",
              "      <td>0.276844</td>\n",
              "      <td>0.026702</td>\n",
              "      <td>0.564697</td>\n",
              "      <td>1</td>\n",
              "      <td>0.054984</td>\n",
              "    </tr>\n",
              "  </tbody>\n",
              "</table>\n",
              "<p>10 rows × 96 columns</p>\n",
              "</div>\n",
              "      <button class=\"colab-df-convert\" onclick=\"convertToInteractive('df-40a84699-e671-4427-9bc1-988a2aff23e1')\"\n",
              "              title=\"Convert this dataframe to an interactive table.\"\n",
              "              style=\"display:none;\">\n",
              "        \n",
              "  <svg xmlns=\"http://www.w3.org/2000/svg\" height=\"24px\"viewBox=\"0 0 24 24\"\n",
              "       width=\"24px\">\n",
              "    <path d=\"M0 0h24v24H0V0z\" fill=\"none\"/>\n",
              "    <path d=\"M18.56 5.44l.94 2.06.94-2.06 2.06-.94-2.06-.94-.94-2.06-.94 2.06-2.06.94zm-11 1L8.5 8.5l.94-2.06 2.06-.94-2.06-.94L8.5 2.5l-.94 2.06-2.06.94zm10 10l.94 2.06.94-2.06 2.06-.94-2.06-.94-.94-2.06-.94 2.06-2.06.94z\"/><path d=\"M17.41 7.96l-1.37-1.37c-.4-.4-.92-.59-1.43-.59-.52 0-1.04.2-1.43.59L10.3 9.45l-7.72 7.72c-.78.78-.78 2.05 0 2.83L4 21.41c.39.39.9.59 1.41.59.51 0 1.02-.2 1.41-.59l7.78-7.78 2.81-2.81c.8-.78.8-2.07 0-2.86zM5.41 20L4 18.59l7.72-7.72 1.47 1.35L5.41 20z\"/>\n",
              "  </svg>\n",
              "      </button>\n",
              "      \n",
              "  <style>\n",
              "    .colab-df-container {\n",
              "      display:flex;\n",
              "      flex-wrap:wrap;\n",
              "      gap: 12px;\n",
              "    }\n",
              "\n",
              "    .colab-df-convert {\n",
              "      background-color: #E8F0FE;\n",
              "      border: none;\n",
              "      border-radius: 50%;\n",
              "      cursor: pointer;\n",
              "      display: none;\n",
              "      fill: #1967D2;\n",
              "      height: 32px;\n",
              "      padding: 0 0 0 0;\n",
              "      width: 32px;\n",
              "    }\n",
              "\n",
              "    .colab-df-convert:hover {\n",
              "      background-color: #E2EBFA;\n",
              "      box-shadow: 0px 1px 2px rgba(60, 64, 67, 0.3), 0px 1px 3px 1px rgba(60, 64, 67, 0.15);\n",
              "      fill: #174EA6;\n",
              "    }\n",
              "\n",
              "    [theme=dark] .colab-df-convert {\n",
              "      background-color: #3B4455;\n",
              "      fill: #D2E3FC;\n",
              "    }\n",
              "\n",
              "    [theme=dark] .colab-df-convert:hover {\n",
              "      background-color: #434B5C;\n",
              "      box-shadow: 0px 1px 3px 1px rgba(0, 0, 0, 0.15);\n",
              "      filter: drop-shadow(0px 1px 2px rgba(0, 0, 0, 0.3));\n",
              "      fill: #FFFFFF;\n",
              "    }\n",
              "  </style>\n",
              "\n",
              "      <script>\n",
              "        const buttonEl =\n",
              "          document.querySelector('#df-40a84699-e671-4427-9bc1-988a2aff23e1 button.colab-df-convert');\n",
              "        buttonEl.style.display =\n",
              "          google.colab.kernel.accessAllowed ? 'block' : 'none';\n",
              "\n",
              "        async function convertToInteractive(key) {\n",
              "          const element = document.querySelector('#df-40a84699-e671-4427-9bc1-988a2aff23e1');\n",
              "          const dataTable =\n",
              "            await google.colab.kernel.invokeFunction('convertToInteractive',\n",
              "                                                     [key], {});\n",
              "          if (!dataTable) return;\n",
              "\n",
              "          const docLinkHtml = 'Like what you see? Visit the ' +\n",
              "            '<a target=\"_blank\" href=https://colab.research.google.com/notebooks/data_table.ipynb>data table notebook</a>'\n",
              "            + ' to learn more about interactive tables.';\n",
              "          element.innerHTML = '';\n",
              "          dataTable['output_type'] = 'display_data';\n",
              "          await google.colab.output.renderOutput(dataTable, element);\n",
              "          const docLink = document.createElement('div');\n",
              "          docLink.innerHTML = docLinkHtml;\n",
              "          element.appendChild(docLink);\n",
              "        }\n",
              "      </script>\n",
              "    </div>\n",
              "  </div>\n",
              "  "
            ]
          },
          "metadata": {},
          "execution_count": 27
        }
      ]
    },
    {
      "cell_type": "code",
      "source": [
        "\"\"\"Con ayuda de la libreria de Seaborn, observamos y \n",
        "analizamos la columna de quiebra o bancarrota de las empresas.\"\"\"\n",
        "sns.countplot(x=df['Bankrupt?'])\n",
        "plt.show()"
      ],
      "metadata": {
        "colab": {
          "base_uri": "https://localhost:8080/",
          "height": 279
        },
        "id": "F8hQOiyru2YY",
        "outputId": "a1c20a83-eb41-42d4-c62c-9de07e3e6388"
      },
      "id": "F8hQOiyru2YY",
      "execution_count": 28,
      "outputs": [
        {
          "output_type": "display_data",
          "data": {
            "text/plain": [
              "<Figure size 432x288 with 1 Axes>"
            ],
            "image/png": "[encoded data removed]"
          },
          "metadata": {
            "needs_background": "light"
          }
        }
      ]
    },
    {
      "cell_type": "code",
      "source": [
        "\"\"\"El grafico anterior nos identifica un dataset desbalanceado, pues los datos \n",
        "de bancarrota 1 para la variable objetivo son muy pocos. Por esto observamos mediante \n",
        "un grafico de procentajes para analizar este factor.\"\"\"\n",
        "\n",
        "df['Bankrupt?'].value_counts().plot(kind='pie',autopct=\"%.2f\")\n",
        "plt.show()"
      ],
      "metadata": {
        "colab": {
          "base_uri": "https://localhost:8080/",
          "height": 248
        },
        "id": "jyg0qdr9wb-f",
        "outputId": "c6a304de-6d8d-4e21-d3d8-a3dcd87e82bb"
      },
      "id": "jyg0qdr9wb-f",
      "execution_count": 31,
      "outputs": [
        {
          "output_type": "display_data",
          "data": {
            "text/plain": [
              "<Figure size 432x288 with 1 Axes>"
            ],
            "image/png": "[encoded data removed]"
          },
          "metadata": {}
        }
      ]
    },
    {
      "cell_type": "code",
      "source": [
        "\"\"\"Del mismo modo analizamos el conteo de estos datos.\"\"\"\n",
        "df['Bankrupt?'].value_counts()"
      ],
      "metadata": {
        "colab": {
          "base_uri": "https://localhost:8080/"
        },
        "id": "ujyBGR7rvrKx",
        "outputId": "9308b505-e020-49f7-da66-c93f510c2424"
      },
      "id": "ujyBGR7rvrKx",
      "execution_count": 29,
      "outputs": [
        {
          "output_type": "execute_result",
          "data": {
            "text/plain": [
              "0    6599\n",
              "1     220\n",
              "Name: Bankrupt?, dtype: int64"
            ]
          },
          "metadata": {},
          "execution_count": 29
        }
      ]
    },
    {
      "cell_type": "markdown",
      "source": [
        "Se observa que el dataset esta totalmente desbalanceado, pues los casos de bancarrota son muy pocos en comparacion con los de no bancarrota, es por esto que se utilizara un metodo para balancear estos datos. El metodo elegido por su eficiencia y rapidez sera la libreria smote para el balanceo de datos."
      ],
      "metadata": {
        "id": "XYi-0iP9w3ij"
      },
      "id": "XYi-0iP9w3ij"
    },
    {
      "cell_type": "code",
      "source": [
        "\"\"\"Observamos todos los datos de X y de Y\"\"\"\n",
        "\n",
        "x, y = df.drop('Bankrupt?',axis=1),df['Bankrupt?']\n",
        "x.shape,y.shape"
      ],
      "metadata": {
        "colab": {
          "base_uri": "https://localhost:8080/"
        },
        "id": "GxBMCHjtxj3Q",
        "outputId": "94bb7445-8923-422c-ff58-081a21fb92f5"
      },
      "id": "GxBMCHjtxj3Q",
      "execution_count": 32,
      "outputs": [
        {
          "output_type": "execute_result",
          "data": {
            "text/plain": [
              "((6819, 95), (6819,))"
            ]
          },
          "metadata": {},
          "execution_count": 32
        }
      ]
    },
    {
      "cell_type": "code",
      "source": [
        "\"\"\"Se utiliza la herramienta de smote con el hiperparametro de \n",
        "minority para que balancee los datos que tengan menos samples.\"\"\"\n",
        "\n",
        "smote = SMOTE(sampling_strategy='minority')\n",
        "x,y = smote.fit_resample(x,y)\n",
        "x.shape,y.shape"
      ],
      "metadata": {
        "colab": {
          "base_uri": "https://localhost:8080/"
        },
        "id": "nfeh7y89xj-n",
        "outputId": "f29d36ef-812a-4968-9d40-93be7605bdf4"
      },
      "id": "nfeh7y89xj-n",
      "execution_count": 34,
      "outputs": [
        {
          "output_type": "execute_result",
          "data": {
            "text/plain": [
              "((13198, 95), (13198,))"
            ]
          },
          "metadata": {},
          "execution_count": 34
        }
      ]
    },
    {
      "cell_type": "code",
      "source": [
        "\"\"\"Analizamos el conteo de la variable Y para saber si se realizo un balanceo correcto\"\"\"\n",
        "\n",
        "y.value_counts().plot(kind='pie',autopct=\"%.2f\")\n",
        "plt.show()"
      ],
      "metadata": {
        "colab": {
          "base_uri": "https://localhost:8080/",
          "height": 248
        },
        "id": "nVel59VNyJXY",
        "outputId": "ad390571-696c-4184-8d60-9a148cec0f73"
      },
      "id": "nVel59VNyJXY",
      "execution_count": 35,
      "outputs": [
        {
          "output_type": "display_data",
          "data": {
            "text/plain": [
              "<Figure size 432x288 with 1 Axes>"
            ],
            "image/png": "[encoded data removed]"
          },
          "metadata": {}
        }
      ]
    },
    {
      "cell_type": "markdown",
      "source": [
        "Se observa un correcto ajuste de los datos, pues ahora tenemos la misma cantidad de datos para 1 y 0 en donde el modelo podra entrenarse de manera optima con todos los samples."
      ],
      "metadata": {
        "id": "jC20uzwCyY7B"
      },
      "id": "jC20uzwCyY7B"
    },
    {
      "cell_type": "markdown",
      "id": "49815fde",
      "metadata": {
        "ExecuteTime": {
          "end_time": "2022-03-14T15:56:34.366469Z",
          "start_time": "2022-03-14T15:56:34.358471Z"
        },
        "id": "49815fde"
      },
      "source": [
        "## División del dataset en datos de entrenamiento y datos de test "
      ]
    },
    {
      "cell_type": "code",
      "execution_count": 36,
      "id": "6f26d21e",
      "metadata": {
        "id": "6f26d21e",
        "colab": {
          "base_uri": "https://localhost:8080/"
        },
        "outputId": "bd44e3a3-71d7-4ad8-94bc-c9fc423ee8d1"
      },
      "outputs": [
        {
          "output_type": "execute_result",
          "data": {
            "text/plain": [
              "((9238, 95), (3960, 95), (9238,), (3960,))"
            ]
          },
          "metadata": {},
          "execution_count": 36
        }
      ],
      "source": [
        "#Código que realice la división en entrenamiento y test, de acuerdo con la estretgia de evaluación planeada. Describa cuál es.\n",
        "\n",
        "\"\"\"Se realizara la division de los datos en 4 partes con ayuda de la funcion train_test_split\"\"\"\n",
        "x_train,x_test,y_train,y_test = train_test_split(x, y, test_size=0.3)\n",
        "x_train.shape,x_test.shape,y_train.shape,y_test.shape"
      ]
    },
    {
      "cell_type": "markdown",
      "id": "6319adad",
      "metadata": {
        "id": "6319adad"
      },
      "source": [
        "## Modelamiento"
      ]
    },
    {
      "cell_type": "code",
      "execution_count": 37,
      "id": "d5d2b2c6",
      "metadata": {
        "id": "d5d2b2c6"
      },
      "outputs": [],
      "source": [
        "#Codigo del modelo\n",
        "\n",
        "\"\"\"El modelo utilizado para la prediccion en este caso sera una red neuronal artificial de dos capas.\n",
        "Una de las capas con la funcion de activacion ReLu para las 95 caracteristicas encontradas y la otra\n",
        "capa con la funcion de activacion Sigmoid la cual se activa con la variable objetivo. Asimismo se \n",
        "compila el modelo con la optimizacion del conjunto de datos ADAM y que indique el acurracy en sus ciclos\n",
        "de entrenamiento. Por ultimo se utilizara la funcion de binary_crossentropy ya que es un problema de \n",
        "clasificacion binaria.\"\"\"\n",
        "\n",
        "ann = keras.Sequential([\n",
        "    keras.layers.Dense(95,input_shape=(95,),activation='relu'),\n",
        "    keras.layers.Dense(1,activation='sigmoid')\n",
        "])\n",
        "\n",
        "ann.compile(\n",
        "    optimizer='adam',\n",
        "    metrics=['accuracy'],\n",
        "    loss='binary_crossentropy'\n",
        ")"
      ]
    },
    {
      "cell_type": "code",
      "execution_count": null,
      "id": "33f5be2a",
      "metadata": {
        "ExecuteTime": {
          "end_time": "2022-04-25T07:21:39.020596Z",
          "start_time": "2022-04-25T07:21:39.005596Z"
        },
        "id": "33f5be2a"
      },
      "outputs": [],
      "source": [
        "#Entrenamiento\n",
        "\n",
        "\"\"\"Se realiza \"\"\"\n",
        "model.fit(x_train,y_train,epochs=200)"
      ]
    },
    {
      "cell_type": "code",
      "execution_count": null,
      "id": "a2e675b3",
      "metadata": {
        "id": "a2e675b3"
      },
      "outputs": [],
      "source": [
        "#Test"
      ]
    },
    {
      "cell_type": "markdown",
      "id": "9c2239f5",
      "metadata": {
        "id": "9c2239f5"
      },
      "source": [
        "## Evaluación del Modelo"
      ]
    },
    {
      "cell_type": "markdown",
      "id": "ad219a0c",
      "metadata": {
        "id": "ad219a0c"
      },
      "source": [
        "Construya un o dos párrafos con los principales hallazgos. Cómo está funcionando el modelo? Calidad en los resultados de predicción. "
      ]
    },
    {
      "cell_type": "code",
      "execution_count": null,
      "id": "28b14a2f",
      "metadata": {
        "id": "28b14a2f"
      },
      "outputs": [],
      "source": [
        ""
      ]
    },
    {
      "cell_type": "markdown",
      "id": "822ff948",
      "metadata": {
        "id": "822ff948"
      },
      "source": [
        "# Interpretación de Resultados"
      ]
    },
    {
      "cell_type": "code",
      "execution_count": null,
      "id": "16f57562",
      "metadata": {
        "id": "16f57562"
      },
      "outputs": [],
      "source": [
        ""
      ]
    }
  ],
  "metadata": {
    "kernelspec": {
      "display_name": "Python 3 (ipykernel)",
      "language": "python",
      "name": "python3"
    },
    "language_info": {
      "codemirror_mode": {
        "name": "ipython",
        "version": 3
      },
      "file_extension": ".py",
      "mimetype": "text/x-python",
      "name": "python",
      "nbconvert_exporter": "python",
      "pygments_lexer": "ipython3",
      "version": "3.9.7"
    },
    "toc": {
      "base_numbering": 1,
      "nav_menu": {},
      "number_sections": true,
      "sideBar": true,
      "skip_h1_title": true,
      "title_cell": "Tabla de Contenido",
      "title_sidebar": "Contenido",
      "toc_cell": false,
      "toc_position": {
        "height": "calc(100% - 180px)",
        "left": "10px",
        "top": "150px",
        "width": "263.591px"
      },
      "toc_section_display": true,
      "toc_window_display": true
    },
    "colab": {
      "name": "[NRC_6262]_XavierGranda_PopQuiz1.ipynb",
      "provenance": [],
      "collapsed_sections": []
    }
  },
  "nbformat": 4,
  "nbformat_minor": 5
}