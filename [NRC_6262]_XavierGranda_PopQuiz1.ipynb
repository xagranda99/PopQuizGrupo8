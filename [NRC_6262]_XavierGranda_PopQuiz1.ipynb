{
  "cells": [
    {
      "cell_type": "markdown",
      "id": "8b6f603c",
      "metadata": {
        "id": "8b6f603c"
      },
      "source": [
        "<center><h1>Mineria de Datos</header1></center>"
      ]
    },
    {
      "cell_type": "markdown",
      "id": "3eb1aaac",
      "metadata": {
        "id": "3eb1aaac"
      },
      "source": [
        "Presentado por: Javier Granda, Bismark Castro, Noelia Anchundia - Grupo 8 <br>\n",
        "Lider: Xavier Granda  <br>\n",
        "Fecha: 16/08/2022"
      ]
    },
    {
      "cell_type": "code",
      "source": [
        ""
      ],
      "metadata": {
        "id": "EdSxfGwk2WxX"
      },
      "id": "EdSxfGwk2WxX",
      "execution_count": null,
      "outputs": []
    },
    {
      "cell_type": "markdown",
      "id": "1dec299b",
      "metadata": {
        "ExecuteTime": {
          "end_time": "2022-03-14T15:14:04.930713Z",
          "start_time": "2022-03-14T15:14:04.921682Z"
        },
        "id": "1dec299b"
      },
      "source": [
        "# Importación de librerias necesarias"
      ]
    },
    {
      "cell_type": "code",
      "source": [
        "#Para esta actividad se importarán las siguientes librerías:\n",
        "\n",
        "\"\"\"Librerias y modulos para el analisis de datos\"\"\"\n",
        "import numpy as np \n",
        "import pandas as pd\n",
        "\n",
        "import seaborn as sns\n",
        "from matplotlib import pyplot as plt\n",
        "plt.style.use('fivethirtyeight')\n",
        "\n",
        "#Modules for Machine Learning and Data Preprocessing\n",
        "from tensorflow import keras\n",
        "from sklearn.metrics import classification_report,confusion_matrix\n",
        "from sklearn.preprocessing import MinMaxScaler\n",
        "from sklearn.model_selection import train_test_split\n",
        "\n",
        "from imblearn.over_sampling import SMOTE\n",
        "%matplotlib inline"
      ],
      "metadata": {
        "id": "3QhXeb4TliPJ"
      },
      "id": "3QhXeb4TliPJ",
      "execution_count": 2,
      "outputs": []
    },
    {
      "cell_type": "markdown",
      "id": "6a44b924",
      "metadata": {
        "id": "6a44b924"
      },
      "source": [
        "## Cargar el Dataset"
      ]
    },
    {
      "cell_type": "code",
      "execution_count": 4,
      "id": "3541e808",
      "metadata": {
        "id": "3541e808"
      },
      "outputs": [],
      "source": [
        "#Código para cargar el Dataset\n",
        "df = pd.read_csv('data.csv')"
      ]
    },
    {
      "cell_type": "markdown",
      "id": "93c30410",
      "metadata": {
        "id": "93c30410"
      },
      "source": [
        "## Descripción de la fuente del Dataset"
      ]
    },
    {
      "cell_type": "markdown",
      "id": "db6174bc",
      "metadata": {
        "id": "db6174bc"
      },
      "source": [
        "Haga una descripción de la fuente de dayos utilizada (Incluya los enlaces necesarios)."
      ]
    },
    {
      "cell_type": "markdown",
      "id": "7f868eab",
      "metadata": {
        "id": "7f868eab"
      },
      "source": [
        "## Explique el problema a resolver. \n",
        "Descripción del problema. Tipo de problema (justifique). Variable objetivo, variables de entrada. Utilidad de su posible solución. Elementos adicionales que considere relevantes (no son necesarios contenidos teóricos, sino explicar qué relaciones tratas de comprobar y con qué métodos)."
      ]
    },
    {
      "cell_type": "markdown",
      "id": "a0b719c1",
      "metadata": {
        "id": "a0b719c1"
      },
      "source": [
        "## Caracterización del Dataset\n",
        "\n",
        "Realice una descripción de los datos con:\n",
        "\n",
        ">- Número de instancias en total.\n",
        ">- Número de atributos de entrada, su significado y tipo.\n",
        ">- Estadísticas de la variable objetivo.\n",
        ">- Estadísticas los atributos en relación con la variable objetivo.\n"
      ]
    },
    {
      "cell_type": "code",
      "execution_count": 20,
      "id": "2f0ed5d2",
      "metadata": {
        "id": "2f0ed5d2",
        "colab": {
          "base_uri": "https://localhost:8080/"
        },
        "outputId": "ae0948e9-ace3-4b64-a00e-ef68879ea51e"
      },
      "outputs": [
        {
          "output_type": "execute_result",
          "data": {
            "text/plain": [
              "(6819, 96)"
            ]
          },
          "metadata": {},
          "execution_count": 20
        }
      ],
      "source": [
        "'''Número de instancias en total.'''\n",
        "df.shape\n",
        "'''Número de atributos de entrada, su significado y tipo.'''\n",
        "df.shape\n",
        "'''Estadísticas de la variable objetivo.'''\n",
        "df.shape\n",
        "'''Número de instancias en total.'''\n",
        "df.shape"
      ]
    },
    {
      "cell_type": "markdown",
      "id": "a7ab5e48",
      "metadata": {
        "id": "a7ab5e48"
      },
      "source": [
        "En un par de párrafos haga un resumen de los principales hallazagos encontrados:    "
      ]
    },
    {
      "cell_type": "markdown",
      "id": "0a19e6af",
      "metadata": {
        "id": "0a19e6af"
      },
      "source": [
        "## Preprocesamiento del dataset. Transformaciones previas necesarias para la modelación"
      ]
    },
    {
      "cell_type": "code",
      "execution_count": 5,
      "id": "5a24dac4",
      "metadata": {
        "id": "5a24dac4",
        "colab": {
          "base_uri": "https://localhost:8080/"
        },
        "outputId": "57dcc2ca-2641-413b-bb21-b8009f8c0b98"
      },
      "outputs": [
        {
          "output_type": "execute_result",
          "data": {
            "text/plain": [
              " Operating Expense Rate                   9.990000e+09\n",
              " Research and development expense rate    9.980000e+09\n",
              " Interest-bearing debt interest rate      9.900000e+08\n",
              " Revenue Per Share (Yuan ¥)               3.020000e+09\n",
              " Total Asset Growth Rate                  9.990000e+09\n",
              " Net Value Growth Rate                    9.330000e+09\n",
              " Current Ratio                            2.750000e+09\n",
              " Quick Ratio                              9.230000e+09\n",
              " Total debt/Total net worth               9.940000e+09\n",
              " Accounts Receivable Turnover             9.740000e+09\n",
              " Average Collection Days                  9.730000e+09\n",
              " Inventory Turnover Rate (times)          9.990000e+09\n",
              " Fixed Assets Turnover Frequency          9.990000e+09\n",
              " Revenue per person                       8.810000e+09\n",
              " Allocation rate per person               9.570000e+09\n",
              " Quick Assets/Current Liability           8.820000e+09\n",
              " Cash/Current Liability                   9.650000e+09\n",
              " Inventory/Current Liability              9.910000e+09\n",
              " Long-term Liability to Current Assets    9.540000e+09\n",
              " Current Asset Turnover Rate              1.000000e+10\n",
              " Quick Asset Turnover Rate                1.000000e+10\n",
              " Cash Turnover Rate                       1.000000e+10\n",
              " Fixed Assets to Assets                   8.320000e+09\n",
              " Total assets to GNP price                9.820000e+09\n",
              "dtype: float64"
            ]
          },
          "metadata": {},
          "execution_count": 5
        }
      ],
      "source": [
        "#Transformación de las caracteristicas (mire el apartado Feature engineering del aula virtual)\n",
        "\n",
        "\"\"\"Haremos una escala para los datos, ya que \n",
        "solo queremos usar datos con un rango de 0 a 1.\n",
        "Con ayuda de la funcion max()>1 para que no pase\n",
        "de ese valor.\"\"\"\n",
        "\n",
        "colum = df.max()[df.max()>1]\n",
        "colum"
      ]
    },
    {
      "cell_type": "code",
      "source": [
        "\"\"\"Del mismo modo para que nos datos no sean menores a 0\n",
        "con ayuda de la funcion min()<0.\"\"\"\n",
        "df.min()[df.min()<0]"
      ],
      "metadata": {
        "colab": {
          "base_uri": "https://localhost:8080/"
        },
        "id": "I_eIgiH6qlzx",
        "outputId": "5d17155c-743b-4c9f-949d-2d5ece7450c5"
      },
      "id": "I_eIgiH6qlzx",
      "execution_count": 6,
      "outputs": [
        {
          "output_type": "execute_result",
          "data": {
            "text/plain": [
              "Series([], dtype: float64)"
            ]
          },
          "metadata": {},
          "execution_count": 6
        }
      ]
    },
    {
      "cell_type": "markdown",
      "source": [
        "Como se observa, no se tienen columas con valores menores que 0, por lo que se procedera a usar la funcion MinMaxScalar para realizar el Feature engineering a nuestro dataset."
      ],
      "metadata": {
        "id": "h7w0J2aasXHi"
      },
      "id": "h7w0J2aasXHi"
    },
    {
      "cell_type": "code",
      "source": [
        "\"\"\"Se instancia la funcion MinMaxScaler y se hace uso de la funcion \n",
        "fit_transform para distribuir los valores en un rango de 0 a 1\"\"\"\n",
        "\n",
        "scale = MinMaxScaler()\n",
        "scalled = scale.fit_transform(df[colum.keys()])"
      ],
      "metadata": {
        "id": "iF_Q3qXust3x"
      },
      "id": "iF_Q3qXust3x",
      "execution_count": 7,
      "outputs": []
    },
    {
      "cell_type": "code",
      "source": [
        "\"\"\"Se recorre el array de la columna creada en busca de los \n",
        "datos para escalar y se asignan los nuevos valores con la \n",
        "variable de MinMaxScaler previamente creada.\"\"\"\n",
        "\n",
        "i = 0\n",
        "for col in colum.keys():\n",
        "    df[col] = scalled[:,i]\n",
        "    i += 1"
      ],
      "metadata": {
        "id": "3I1IWeNHsxdS"
      },
      "id": "3I1IWeNHsxdS",
      "execution_count": 8,
      "outputs": []
    },
    {
      "cell_type": "code",
      "source": [
        "\"\"\"Se muestran los datos estadisicos ya estandarizados \n",
        "para tener un contraste con los datos sin estandarizar \n",
        "para tener un mejor analisis de estos.\"\"\"\n",
        "\n",
        "df[colum.keys()].describe()"
      ],
      "metadata": {
        "colab": {
          "base_uri": "https://localhost:8080/",
          "height": 463
        },
        "id": "bR2gG27stWKL",
        "outputId": "b3a528c9-38ea-4b1d-dce7-04ab7a0c1a85"
      },
      "id": "bR2gG27stWKL",
      "execution_count": 9,
      "outputs": [
        {
          "output_type": "execute_result",
          "data": {
            "text/plain": [
              "        Operating Expense Rate   Research and development expense rate  \\\n",
              "count             6.819000e+03                            6.819000e+03   \n",
              "mean              1.997345e-01                            1.954336e-01   \n",
              "std               3.240925e-01                            2.603499e-01   \n",
              "min               0.000000e+00                            0.000000e+00   \n",
              "25%               1.568443e-14                            1.284448e-14   \n",
              "50%               2.780369e-14                            5.100200e-02   \n",
              "75%               4.149149e-01                            3.456914e-01   \n",
              "max               1.000000e+00                            1.000000e+00   \n",
              "\n",
              "        Interest-bearing debt interest rate   Revenue Per Share (Yuan ¥)  \\\n",
              "count                          6.819000e+03                 6.819000e+03   \n",
              "mean                           1.661415e-02                 4.399472e-04   \n",
              "std                            1.093687e-01                 1.712155e-02   \n",
              "min                            0.000000e+00                 0.000000e+00   \n",
              "25%                            2.050710e-13                 5.175954e-12   \n",
              "50%                            3.242749e-13                 9.064806e-12   \n",
              "75%                            5.379326e-13                 1.535007e-11   \n",
              "max                            1.000000e+00                 1.000000e+00   \n",
              "\n",
              "        Total Asset Growth Rate   Net Value Growth Rate   Current Ratio  \\\n",
              "count               6819.000000            6.819000e+03    6.819000e+03   \n",
              "mean                   0.551361            1.678684e-04    1.466491e-04   \n",
              "std                    0.290062            1.223573e-02    1.210987e-02   \n",
              "min                    0.000000            0.000000e+00    0.000000e+00   \n",
              "25%                    0.486486            4.726355e-14    2.747290e-12   \n",
              "50%                    0.640641            4.951292e-14    3.849882e-12   \n",
              "75%                    0.739740            5.352220e-14    5.916192e-12   \n",
              "max                    1.000000            1.000000e+00    1.000000e+00   \n",
              "\n",
              "        Quick Ratio   Total debt/Total net worth  \\\n",
              "count  6.819000e+03                 6.819000e+03   \n",
              "mean   9.075401e-04                 4.442995e-04   \n",
              "std    2.650972e-02                 1.694234e-02   \n",
              "min    0.000000e+00                 0.000000e+00   \n",
              "25%    5.120155e-13                 3.025200e-13   \n",
              "50%    8.030847e-13                 5.579763e-13   \n",
              "75%    1.327097e-12                 9.329268e-13   \n",
              "max    1.000000e+00                 1.000000e+00   \n",
              "\n",
              "        Accounts Receivable Turnover  ...   Allocation rate per person  \\\n",
              "count                   6.819000e+03  ...                 6.819000e+03   \n",
              "mean                    1.313111e-03  ...                 1.176153e-03   \n",
              "std                     2.856877e-02  ...                 3.077391e-02   \n",
              "min                     0.000000e+00  ...                 0.000000e+00   \n",
              "25%                     7.290899e-14  ...                 4.305673e-13   \n",
              "50%                     9.936454e-14  ...                 8.196837e-13   \n",
              "75%                     1.493593e-13  ...                 1.569520e-12   \n",
              "max                     1.000000e+00  ...                 1.000000e+00   \n",
              "\n",
              "        Quick Assets/Current Liability   Cash/Current Liability  \\\n",
              "count                     6.819000e+03             6.819000e+03   \n",
              "mean                      4.073585e-04             3.850777e-03   \n",
              "std                       1.945815e-02             5.288610e-02   \n",
              "min                       0.000000e+00             0.000000e+00   \n",
              "25%                       5.940789e-13             2.044567e-13   \n",
              "50%                       8.967005e-13             5.081748e-13   \n",
              "75%                       1.468357e-12             1.327002e-12   \n",
              "max                       1.000000e+00             1.000000e+00   \n",
              "\n",
              "        Inventory/Current Liability   Long-term Liability to Current Assets  \\\n",
              "count                  6.819000e+03                            6.819000e+03   \n",
              "mean                   5.631363e-03                            5.677153e-03   \n",
              "std                    5.873376e-02                            5.977679e-02   \n",
              "min                    0.000000e+00                            0.000000e+00   \n",
              "25%                    3.191875e-13                            0.000000e+00   \n",
              "50%                    6.556342e-13                            2.069831e-13   \n",
              "75%                    1.124800e-12                            9.440195e-13   \n",
              "max                    1.000000e+00                            1.000000e+00   \n",
              "\n",
              "        Current Asset Turnover Rate   Quick Asset Turnover Rate  \\\n",
              "count                  6.819000e+03                6.819000e+03   \n",
              "mean                   1.195856e-01                2.163735e-01   \n",
              "std                    2.821161e-01                3.374944e-01   \n",
              "min                    0.000000e+00                0.000000e+00   \n",
              "25%                    1.456236e-14                1.417149e-14   \n",
              "50%                    1.987816e-14                2.247728e-14   \n",
              "75%                    4.525945e-14                4.900000e-01   \n",
              "max                    1.000000e+00                1.000000e+00   \n",
              "\n",
              "        Cash Turnover Rate   Fixed Assets to Assets  \\\n",
              "count         6.819000e+03             6.819000e+03   \n",
              "mean          2.471977e-01             1.466491e-04   \n",
              "std           2.938623e-01             1.210987e-02   \n",
              "min           0.000000e+00             0.000000e+00   \n",
              "25%           2.735337e-14             1.025966e-11   \n",
              "50%           1.080000e-01             2.366359e-11   \n",
              "75%           4.510000e-01             4.473557e-11   \n",
              "max           1.000000e+00             1.000000e+00   \n",
              "\n",
              "        Total assets to GNP price  \n",
              "count                6.819000e+03  \n",
              "mean                 1.897089e-03  \n",
              "std                  3.833504e-02  \n",
              "min                  0.000000e+00  \n",
              "25%                  9.201838e-14  \n",
              "50%                  2.123435e-13  \n",
              "75%                  5.366372e-13  \n",
              "max                  1.000000e+00  \n",
              "\n",
              "[8 rows x 24 columns]"
            ],
            "text/html": [
              "\n",
              "  <div id=\"df-2f4497c6-14ad-4dfb-b4db-0d0011b48251\">\n",
              "    <div class=\"colab-df-container\">\n",
              "      <div>\n",
              "<style scoped>\n",
              "    .dataframe tbody tr th:only-of-type {\n",
              "        vertical-align: middle;\n",
              "    }\n",
              "\n",
              "    .dataframe tbody tr th {\n",
              "        vertical-align: top;\n",
              "    }\n",
              "\n",
              "    .dataframe thead th {\n",
              "        text-align: right;\n",
              "    }\n",
              "</style>\n",
              "<table border=\"1\" class=\"dataframe\">\n",
              "  <thead>\n",
              "    <tr style=\"text-align: right;\">\n",
              "      <th></th>\n",
              "      <th>Operating Expense Rate</th>\n",
              "      <th>Research and development expense rate</th>\n",
              "      <th>Interest-bearing debt interest rate</th>\n",
              "      <th>Revenue Per Share (Yuan ¥)</th>\n",
              "      <th>Total Asset Growth Rate</th>\n",
              "      <th>Net Value Growth Rate</th>\n",
              "      <th>Current Ratio</th>\n",
              "      <th>Quick Ratio</th>\n",
              "      <th>Total debt/Total net worth</th>\n",
              "      <th>Accounts Receivable Turnover</th>\n",
              "      <th>...</th>\n",
              "      <th>Allocation rate per person</th>\n",
              "      <th>Quick Assets/Current Liability</th>\n",
              "      <th>Cash/Current Liability</th>\n",
              "      <th>Inventory/Current Liability</th>\n",
              "      <th>Long-term Liability to Current Assets</th>\n",
              "      <th>Current Asset Turnover Rate</th>\n",
              "      <th>Quick Asset Turnover Rate</th>\n",
              "      <th>Cash Turnover Rate</th>\n",
              "      <th>Fixed Assets to Assets</th>\n",
              "      <th>Total assets to GNP price</th>\n",
              "    </tr>\n",
              "  </thead>\n",
              "  <tbody>\n",
              "    <tr>\n",
              "      <th>count</th>\n",
              "      <td>6.819000e+03</td>\n",
              "      <td>6.819000e+03</td>\n",
              "      <td>6.819000e+03</td>\n",
              "      <td>6.819000e+03</td>\n",
              "      <td>6819.000000</td>\n",
              "      <td>6.819000e+03</td>\n",
              "      <td>6.819000e+03</td>\n",
              "      <td>6.819000e+03</td>\n",
              "      <td>6.819000e+03</td>\n",
              "      <td>6.819000e+03</td>\n",
              "      <td>...</td>\n",
              "      <td>6.819000e+03</td>\n",
              "      <td>6.819000e+03</td>\n",
              "      <td>6.819000e+03</td>\n",
              "      <td>6.819000e+03</td>\n",
              "      <td>6.819000e+03</td>\n",
              "      <td>6.819000e+03</td>\n",
              "      <td>6.819000e+03</td>\n",
              "      <td>6.819000e+03</td>\n",
              "      <td>6.819000e+03</td>\n",
              "      <td>6.819000e+03</td>\n",
              "    </tr>\n",
              "    <tr>\n",
              "      <th>mean</th>\n",
              "      <td>1.997345e-01</td>\n",
              "      <td>1.954336e-01</td>\n",
              "      <td>1.661415e-02</td>\n",
              "      <td>4.399472e-04</td>\n",
              "      <td>0.551361</td>\n",
              "      <td>1.678684e-04</td>\n",
              "      <td>1.466491e-04</td>\n",
              "      <td>9.075401e-04</td>\n",
              "      <td>4.442995e-04</td>\n",
              "      <td>1.313111e-03</td>\n",
              "      <td>...</td>\n",
              "      <td>1.176153e-03</td>\n",
              "      <td>4.073585e-04</td>\n",
              "      <td>3.850777e-03</td>\n",
              "      <td>5.631363e-03</td>\n",
              "      <td>5.677153e-03</td>\n",
              "      <td>1.195856e-01</td>\n",
              "      <td>2.163735e-01</td>\n",
              "      <td>2.471977e-01</td>\n",
              "      <td>1.466491e-04</td>\n",
              "      <td>1.897089e-03</td>\n",
              "    </tr>\n",
              "    <tr>\n",
              "      <th>std</th>\n",
              "      <td>3.240925e-01</td>\n",
              "      <td>2.603499e-01</td>\n",
              "      <td>1.093687e-01</td>\n",
              "      <td>1.712155e-02</td>\n",
              "      <td>0.290062</td>\n",
              "      <td>1.223573e-02</td>\n",
              "      <td>1.210987e-02</td>\n",
              "      <td>2.650972e-02</td>\n",
              "      <td>1.694234e-02</td>\n",
              "      <td>2.856877e-02</td>\n",
              "      <td>...</td>\n",
              "      <td>3.077391e-02</td>\n",
              "      <td>1.945815e-02</td>\n",
              "      <td>5.288610e-02</td>\n",
              "      <td>5.873376e-02</td>\n",
              "      <td>5.977679e-02</td>\n",
              "      <td>2.821161e-01</td>\n",
              "      <td>3.374944e-01</td>\n",
              "      <td>2.938623e-01</td>\n",
              "      <td>1.210987e-02</td>\n",
              "      <td>3.833504e-02</td>\n",
              "    </tr>\n",
              "    <tr>\n",
              "      <th>min</th>\n",
              "      <td>0.000000e+00</td>\n",
              "      <td>0.000000e+00</td>\n",
              "      <td>0.000000e+00</td>\n",
              "      <td>0.000000e+00</td>\n",
              "      <td>0.000000</td>\n",
              "      <td>0.000000e+00</td>\n",
              "      <td>0.000000e+00</td>\n",
              "      <td>0.000000e+00</td>\n",
              "      <td>0.000000e+00</td>\n",
              "      <td>0.000000e+00</td>\n",
              "      <td>...</td>\n",
              "      <td>0.000000e+00</td>\n",
              "      <td>0.000000e+00</td>\n",
              "      <td>0.000000e+00</td>\n",
              "      <td>0.000000e+00</td>\n",
              "      <td>0.000000e+00</td>\n",
              "      <td>0.000000e+00</td>\n",
              "      <td>0.000000e+00</td>\n",
              "      <td>0.000000e+00</td>\n",
              "      <td>0.000000e+00</td>\n",
              "      <td>0.000000e+00</td>\n",
              "    </tr>\n",
              "    <tr>\n",
              "      <th>25%</th>\n",
              "      <td>1.568443e-14</td>\n",
              "      <td>1.284448e-14</td>\n",
              "      <td>2.050710e-13</td>\n",
              "      <td>5.175954e-12</td>\n",
              "      <td>0.486486</td>\n",
              "      <td>4.726355e-14</td>\n",
              "      <td>2.747290e-12</td>\n",
              "      <td>5.120155e-13</td>\n",
              "      <td>3.025200e-13</td>\n",
              "      <td>7.290899e-14</td>\n",
              "      <td>...</td>\n",
              "      <td>4.305673e-13</td>\n",
              "      <td>5.940789e-13</td>\n",
              "      <td>2.044567e-13</td>\n",
              "      <td>3.191875e-13</td>\n",
              "      <td>0.000000e+00</td>\n",
              "      <td>1.456236e-14</td>\n",
              "      <td>1.417149e-14</td>\n",
              "      <td>2.735337e-14</td>\n",
              "      <td>1.025966e-11</td>\n",
              "      <td>9.201838e-14</td>\n",
              "    </tr>\n",
              "    <tr>\n",
              "      <th>50%</th>\n",
              "      <td>2.780369e-14</td>\n",
              "      <td>5.100200e-02</td>\n",
              "      <td>3.242749e-13</td>\n",
              "      <td>9.064806e-12</td>\n",
              "      <td>0.640641</td>\n",
              "      <td>4.951292e-14</td>\n",
              "      <td>3.849882e-12</td>\n",
              "      <td>8.030847e-13</td>\n",
              "      <td>5.579763e-13</td>\n",
              "      <td>9.936454e-14</td>\n",
              "      <td>...</td>\n",
              "      <td>8.196837e-13</td>\n",
              "      <td>8.967005e-13</td>\n",
              "      <td>5.081748e-13</td>\n",
              "      <td>6.556342e-13</td>\n",
              "      <td>2.069831e-13</td>\n",
              "      <td>1.987816e-14</td>\n",
              "      <td>2.247728e-14</td>\n",
              "      <td>1.080000e-01</td>\n",
              "      <td>2.366359e-11</td>\n",
              "      <td>2.123435e-13</td>\n",
              "    </tr>\n",
              "    <tr>\n",
              "      <th>75%</th>\n",
              "      <td>4.149149e-01</td>\n",
              "      <td>3.456914e-01</td>\n",
              "      <td>5.379326e-13</td>\n",
              "      <td>1.535007e-11</td>\n",
              "      <td>0.739740</td>\n",
              "      <td>5.352220e-14</td>\n",
              "      <td>5.916192e-12</td>\n",
              "      <td>1.327097e-12</td>\n",
              "      <td>9.329268e-13</td>\n",
              "      <td>1.493593e-13</td>\n",
              "      <td>...</td>\n",
              "      <td>1.569520e-12</td>\n",
              "      <td>1.468357e-12</td>\n",
              "      <td>1.327002e-12</td>\n",
              "      <td>1.124800e-12</td>\n",
              "      <td>9.440195e-13</td>\n",
              "      <td>4.525945e-14</td>\n",
              "      <td>4.900000e-01</td>\n",
              "      <td>4.510000e-01</td>\n",
              "      <td>4.473557e-11</td>\n",
              "      <td>5.366372e-13</td>\n",
              "    </tr>\n",
              "    <tr>\n",
              "      <th>max</th>\n",
              "      <td>1.000000e+00</td>\n",
              "      <td>1.000000e+00</td>\n",
              "      <td>1.000000e+00</td>\n",
              "      <td>1.000000e+00</td>\n",
              "      <td>1.000000</td>\n",
              "      <td>1.000000e+00</td>\n",
              "      <td>1.000000e+00</td>\n",
              "      <td>1.000000e+00</td>\n",
              "      <td>1.000000e+00</td>\n",
              "      <td>1.000000e+00</td>\n",
              "      <td>...</td>\n",
              "      <td>1.000000e+00</td>\n",
              "      <td>1.000000e+00</td>\n",
              "      <td>1.000000e+00</td>\n",
              "      <td>1.000000e+00</td>\n",
              "      <td>1.000000e+00</td>\n",
              "      <td>1.000000e+00</td>\n",
              "      <td>1.000000e+00</td>\n",
              "      <td>1.000000e+00</td>\n",
              "      <td>1.000000e+00</td>\n",
              "      <td>1.000000e+00</td>\n",
              "    </tr>\n",
              "  </tbody>\n",
              "</table>\n",
              "<p>8 rows × 24 columns</p>\n",
              "</div>\n",
              "      <button class=\"colab-df-convert\" onclick=\"convertToInteractive('df-2f4497c6-14ad-4dfb-b4db-0d0011b48251')\"\n",
              "              title=\"Convert this dataframe to an interactive table.\"\n",
              "              style=\"display:none;\">\n",
              "        \n",
              "  <svg xmlns=\"http://www.w3.org/2000/svg\" height=\"24px\"viewBox=\"0 0 24 24\"\n",
              "       width=\"24px\">\n",
              "    <path d=\"M0 0h24v24H0V0z\" fill=\"none\"/>\n",
              "    <path d=\"M18.56 5.44l.94 2.06.94-2.06 2.06-.94-2.06-.94-.94-2.06-.94 2.06-2.06.94zm-11 1L8.5 8.5l.94-2.06 2.06-.94-2.06-.94L8.5 2.5l-.94 2.06-2.06.94zm10 10l.94 2.06.94-2.06 2.06-.94-2.06-.94-.94-2.06-.94 2.06-2.06.94z\"/><path d=\"M17.41 7.96l-1.37-1.37c-.4-.4-.92-.59-1.43-.59-.52 0-1.04.2-1.43.59L10.3 9.45l-7.72 7.72c-.78.78-.78 2.05 0 2.83L4 21.41c.39.39.9.59 1.41.59.51 0 1.02-.2 1.41-.59l7.78-7.78 2.81-2.81c.8-.78.8-2.07 0-2.86zM5.41 20L4 18.59l7.72-7.72 1.47 1.35L5.41 20z\"/>\n",
              "  </svg>\n",
              "      </button>\n",
              "      \n",
              "  <style>\n",
              "    .colab-df-container {\n",
              "      display:flex;\n",
              "      flex-wrap:wrap;\n",
              "      gap: 12px;\n",
              "    }\n",
              "\n",
              "    .colab-df-convert {\n",
              "      background-color: #E8F0FE;\n",
              "      border: none;\n",
              "      border-radius: 50%;\n",
              "      cursor: pointer;\n",
              "      display: none;\n",
              "      fill: #1967D2;\n",
              "      height: 32px;\n",
              "      padding: 0 0 0 0;\n",
              "      width: 32px;\n",
              "    }\n",
              "\n",
              "    .colab-df-convert:hover {\n",
              "      background-color: #E2EBFA;\n",
              "      box-shadow: 0px 1px 2px rgba(60, 64, 67, 0.3), 0px 1px 3px 1px rgba(60, 64, 67, 0.15);\n",
              "      fill: #174EA6;\n",
              "    }\n",
              "\n",
              "    [theme=dark] .colab-df-convert {\n",
              "      background-color: #3B4455;\n",
              "      fill: #D2E3FC;\n",
              "    }\n",
              "\n",
              "    [theme=dark] .colab-df-convert:hover {\n",
              "      background-color: #434B5C;\n",
              "      box-shadow: 0px 1px 3px 1px rgba(0, 0, 0, 0.15);\n",
              "      filter: drop-shadow(0px 1px 2px rgba(0, 0, 0, 0.3));\n",
              "      fill: #FFFFFF;\n",
              "    }\n",
              "  </style>\n",
              "\n",
              "      <script>\n",
              "        const buttonEl =\n",
              "          document.querySelector('#df-2f4497c6-14ad-4dfb-b4db-0d0011b48251 button.colab-df-convert');\n",
              "        buttonEl.style.display =\n",
              "          google.colab.kernel.accessAllowed ? 'block' : 'none';\n",
              "\n",
              "        async function convertToInteractive(key) {\n",
              "          const element = document.querySelector('#df-2f4497c6-14ad-4dfb-b4db-0d0011b48251');\n",
              "          const dataTable =\n",
              "            await google.colab.kernel.invokeFunction('convertToInteractive',\n",
              "                                                     [key], {});\n",
              "          if (!dataTable) return;\n",
              "\n",
              "          const docLinkHtml = 'Like what you see? Visit the ' +\n",
              "            '<a target=\"_blank\" href=https://colab.research.google.com/notebooks/data_table.ipynb>data table notebook</a>'\n",
              "            + ' to learn more about interactive tables.';\n",
              "          element.innerHTML = '';\n",
              "          dataTable['output_type'] = 'display_data';\n",
              "          await google.colab.output.renderOutput(dataTable, element);\n",
              "          const docLink = document.createElement('div');\n",
              "          docLink.innerHTML = docLinkHtml;\n",
              "          element.appendChild(docLink);\n",
              "        }\n",
              "      </script>\n",
              "    </div>\n",
              "  </div>\n",
              "  "
            ]
          },
          "metadata": {},
          "execution_count": 9
        }
      ]
    },
    {
      "cell_type": "code",
      "source": [
        "\"\"\"Por ultimo comprobamos el dataset para saber si la scala tuvo exito o no.\"\"\"\n",
        "df.sample(10)"
      ],
      "metadata": {
        "colab": {
          "base_uri": "https://localhost:8080/",
          "height": 717
        },
        "id": "MKcXEi30te1w",
        "outputId": "eb226557-f729-4958-a760-7cc27dadfe4a"
      },
      "id": "MKcXEi30te1w",
      "execution_count": 10,
      "outputs": [
        {
          "output_type": "execute_result",
          "data": {
            "text/plain": [
              "      Bankrupt?   ROA(C) before interest and depreciation before interest  \\\n",
              "3934          0                                           0.490274          \n",
              "942           0                                           0.553893          \n",
              "6810          0                                           0.578901          \n",
              "299           0                                           0.490177          \n",
              "5850          0                                           0.577195          \n",
              "2624          0                                           0.523034          \n",
              "3468          0                                           0.619656          \n",
              "2305          0                                           0.479842          \n",
              "4537          0                                           0.601667          \n",
              "1594          0                                           0.433042          \n",
              "\n",
              "       ROA(A) before interest and % after tax  \\\n",
              "3934                                 0.538541   \n",
              "942                                  0.602104   \n",
              "6810                                 0.648005   \n",
              "299                                  0.532163   \n",
              "5850                                 0.646915   \n",
              "2624                                 0.574738   \n",
              "3468                                 0.654056   \n",
              "2305                                 0.561982   \n",
              "4537                                 0.660543   \n",
              "1594                                 0.492205   \n",
              "\n",
              "       ROA(B) before interest and depreciation after tax  \\\n",
              "3934                                           0.538947    \n",
              "942                                            0.593715    \n",
              "6810                                           0.631725    \n",
              "299                                            0.540821    \n",
              "5850                                           0.634509    \n",
              "2624                                           0.573853    \n",
              "3468                                           0.676000    \n",
              "2305                                           0.531506    \n",
              "4537                                           0.649660    \n",
              "1594                                           0.479308    \n",
              "\n",
              "       Operating Gross Margin   Realized Sales Gross Margin  \\\n",
              "3934                 0.602920                      0.602899   \n",
              "942                  0.618148                      0.618148   \n",
              "6810                 0.602841                      0.602841   \n",
              "299                  0.600434                      0.600427   \n",
              "5850                 0.593602                      0.593602   \n",
              "2624                 0.605068                      0.605061   \n",
              "3468                 0.615799                      0.615799   \n",
              "2305                 0.601601                      0.601594   \n",
              "4537                 0.603735                      0.603281   \n",
              "1594                 0.603036                      0.603036   \n",
              "\n",
              "       Operating Profit Rate   Pre-tax net Interest Rate  \\\n",
              "3934                0.998998                    0.797404   \n",
              "942                 0.999199                    0.797666   \n",
              "6810                0.999026                    0.797490   \n",
              "299                 0.998998                    0.797382   \n",
              "5850                0.998903                    0.798358   \n",
              "2624                0.999038                    0.797466   \n",
              "3468                0.999296                    0.797774   \n",
              "2305                0.999030                    0.797566   \n",
              "4537                0.999064                    0.797664   \n",
              "1594                0.998945                    0.797315   \n",
              "\n",
              "       After-tax net Interest Rate  \\\n",
              "3934                      0.809328   \n",
              "942                       0.809511   \n",
              "6810                      0.809402   \n",
              "299                       0.809290   \n",
              "5850                      0.810179   \n",
              "2624                      0.809374   \n",
              "3468                      0.809646   \n",
              "2305                      0.809475   \n",
              "4537                      0.809545   \n",
              "1594                      0.809247   \n",
              "\n",
              "       Non-industry income and expenditure/revenue  ...  \\\n",
              "3934                                      0.303489  ...   \n",
              "942                                       0.303526  ...   \n",
              "6810                                      0.303580  ...   \n",
              "299                                       0.303451  ...   \n",
              "5850                                      0.305355  ...   \n",
              "2624                                      0.303514  ...   \n",
              "3468                                      0.303513  ...   \n",
              "2305                                      0.303705  ...   \n",
              "4537                                      0.303805  ...   \n",
              "1594                                      0.303446  ...   \n",
              "\n",
              "       Net Income to Total Assets   Total assets to GNP price  \\\n",
              "3934                     0.798301                9.311455e-13   \n",
              "942                      0.834587                6.263668e-14   \n",
              "6810                     0.846995                1.013046e-13   \n",
              "299                      0.793612                1.370199e-12   \n",
              "5850                     0.860657                3.257603e-13   \n",
              "2624                     0.815026                1.670929e-13   \n",
              "3468                     0.865344                9.688911e-13   \n",
              "2305                     0.813472                3.186946e-12   \n",
              "4537                     0.861158                2.618998e-14   \n",
              "1594                     0.767845                3.931716e-13   \n",
              "\n",
              "       No-credit Interval   Gross Profit to Sales  \\\n",
              "3934             0.623975                0.602916   \n",
              "942              0.623709                0.618149   \n",
              "6810             0.624040                0.602840   \n",
              "299              0.624030                0.600429   \n",
              "5850             0.624042                0.593600   \n",
              "2624             0.623675                0.605068   \n",
              "3468             0.622645                0.615799   \n",
              "2305             0.622802                0.601599   \n",
              "4537             0.623778                0.603729   \n",
              "1594             0.623861                0.603036   \n",
              "\n",
              "       Net Income to Stockholder's Equity   Liability to Equity  \\\n",
              "3934                             0.840224              0.279338   \n",
              "942                              0.843019              0.279175   \n",
              "6810                             0.844588              0.280905   \n",
              "299                              0.839882              0.277809   \n",
              "5850                             0.843792              0.276422   \n",
              "2624                             0.841418              0.278470   \n",
              "3468                             0.843718              0.275704   \n",
              "2305                             0.841617              0.281035   \n",
              "4537                             0.844739              0.278451   \n",
              "1594                             0.837870              0.279196   \n",
              "\n",
              "       Degree of Financial Leverage (DFL)  \\\n",
              "3934                             0.028110   \n",
              "942                              0.026829   \n",
              "6810                             0.026813   \n",
              "299                              0.042152   \n",
              "5850                             0.026798   \n",
              "2624                             0.027010   \n",
              "3468                             0.026791   \n",
              "2305                             0.026888   \n",
              "4537                             0.026808   \n",
              "1594                             0.026605   \n",
              "\n",
              "       Interest Coverage Ratio (Interest expense to EBIT)   Net Income Flag  \\\n",
              "3934                                           0.567956                   1   \n",
              "942                                            0.565333                   1   \n",
              "6810                                           0.565259                   1   \n",
              "299                                            0.569873                   1   \n",
              "5850                                           0.565193                   1   \n",
              "2624                                           0.566023                   1   \n",
              "3468                                           0.565160                   1   \n",
              "2305                                           0.565582                   1   \n",
              "4537                                           0.565239                   1   \n",
              "1594                                           0.564084                   1   \n",
              "\n",
              "       Equity to Liability  \n",
              "3934              0.031019  \n",
              "942               0.031776  \n",
              "6810              0.025787  \n",
              "299               0.041185  \n",
              "5850              0.065837  \n",
              "2624              0.035780  \n",
              "3468              0.104902  \n",
              "2305              0.025468  \n",
              "4537              0.035911  \n",
              "1594              0.031671  \n",
              "\n",
              "[10 rows x 96 columns]"
            ],
            "text/html": [
              "\n",
              "  <div id=\"df-bff61ee5-f723-4420-a28d-0ad8a4cdd460\">\n",
              "    <div class=\"colab-df-container\">\n",
              "      <div>\n",
              "<style scoped>\n",
              "    .dataframe tbody tr th:only-of-type {\n",
              "        vertical-align: middle;\n",
              "    }\n",
              "\n",
              "    .dataframe tbody tr th {\n",
              "        vertical-align: top;\n",
              "    }\n",
              "\n",
              "    .dataframe thead th {\n",
              "        text-align: right;\n",
              "    }\n",
              "</style>\n",
              "<table border=\"1\" class=\"dataframe\">\n",
              "  <thead>\n",
              "    <tr style=\"text-align: right;\">\n",
              "      <th></th>\n",
              "      <th>Bankrupt?</th>\n",
              "      <th>ROA(C) before interest and depreciation before interest</th>\n",
              "      <th>ROA(A) before interest and % after tax</th>\n",
              "      <th>ROA(B) before interest and depreciation after tax</th>\n",
              "      <th>Operating Gross Margin</th>\n",
              "      <th>Realized Sales Gross Margin</th>\n",
              "      <th>Operating Profit Rate</th>\n",
              "      <th>Pre-tax net Interest Rate</th>\n",
              "      <th>After-tax net Interest Rate</th>\n",
              "      <th>Non-industry income and expenditure/revenue</th>\n",
              "      <th>...</th>\n",
              "      <th>Net Income to Total Assets</th>\n",
              "      <th>Total assets to GNP price</th>\n",
              "      <th>No-credit Interval</th>\n",
              "      <th>Gross Profit to Sales</th>\n",
              "      <th>Net Income to Stockholder's Equity</th>\n",
              "      <th>Liability to Equity</th>\n",
              "      <th>Degree of Financial Leverage (DFL)</th>\n",
              "      <th>Interest Coverage Ratio (Interest expense to EBIT)</th>\n",
              "      <th>Net Income Flag</th>\n",
              "      <th>Equity to Liability</th>\n",
              "    </tr>\n",
              "  </thead>\n",
              "  <tbody>\n",
              "    <tr>\n",
              "      <th>3934</th>\n",
              "      <td>0</td>\n",
              "      <td>0.490274</td>\n",
              "      <td>0.538541</td>\n",
              "      <td>0.538947</td>\n",
              "      <td>0.602920</td>\n",
              "      <td>0.602899</td>\n",
              "      <td>0.998998</td>\n",
              "      <td>0.797404</td>\n",
              "      <td>0.809328</td>\n",
              "      <td>0.303489</td>\n",
              "      <td>...</td>\n",
              "      <td>0.798301</td>\n",
              "      <td>9.311455e-13</td>\n",
              "      <td>0.623975</td>\n",
              "      <td>0.602916</td>\n",
              "      <td>0.840224</td>\n",
              "      <td>0.279338</td>\n",
              "      <td>0.028110</td>\n",
              "      <td>0.567956</td>\n",
              "      <td>1</td>\n",
              "      <td>0.031019</td>\n",
              "    </tr>\n",
              "    <tr>\n",
              "      <th>942</th>\n",
              "      <td>0</td>\n",
              "      <td>0.553893</td>\n",
              "      <td>0.602104</td>\n",
              "      <td>0.593715</td>\n",
              "      <td>0.618148</td>\n",
              "      <td>0.618148</td>\n",
              "      <td>0.999199</td>\n",
              "      <td>0.797666</td>\n",
              "      <td>0.809511</td>\n",
              "      <td>0.303526</td>\n",
              "      <td>...</td>\n",
              "      <td>0.834587</td>\n",
              "      <td>6.263668e-14</td>\n",
              "      <td>0.623709</td>\n",
              "      <td>0.618149</td>\n",
              "      <td>0.843019</td>\n",
              "      <td>0.279175</td>\n",
              "      <td>0.026829</td>\n",
              "      <td>0.565333</td>\n",
              "      <td>1</td>\n",
              "      <td>0.031776</td>\n",
              "    </tr>\n",
              "    <tr>\n",
              "      <th>6810</th>\n",
              "      <td>0</td>\n",
              "      <td>0.578901</td>\n",
              "      <td>0.648005</td>\n",
              "      <td>0.631725</td>\n",
              "      <td>0.602841</td>\n",
              "      <td>0.602841</td>\n",
              "      <td>0.999026</td>\n",
              "      <td>0.797490</td>\n",
              "      <td>0.809402</td>\n",
              "      <td>0.303580</td>\n",
              "      <td>...</td>\n",
              "      <td>0.846995</td>\n",
              "      <td>1.013046e-13</td>\n",
              "      <td>0.624040</td>\n",
              "      <td>0.602840</td>\n",
              "      <td>0.844588</td>\n",
              "      <td>0.280905</td>\n",
              "      <td>0.026813</td>\n",
              "      <td>0.565259</td>\n",
              "      <td>1</td>\n",
              "      <td>0.025787</td>\n",
              "    </tr>\n",
              "    <tr>\n",
              "      <th>299</th>\n",
              "      <td>0</td>\n",
              "      <td>0.490177</td>\n",
              "      <td>0.532163</td>\n",
              "      <td>0.540821</td>\n",
              "      <td>0.600434</td>\n",
              "      <td>0.600427</td>\n",
              "      <td>0.998998</td>\n",
              "      <td>0.797382</td>\n",
              "      <td>0.809290</td>\n",
              "      <td>0.303451</td>\n",
              "      <td>...</td>\n",
              "      <td>0.793612</td>\n",
              "      <td>1.370199e-12</td>\n",
              "      <td>0.624030</td>\n",
              "      <td>0.600429</td>\n",
              "      <td>0.839882</td>\n",
              "      <td>0.277809</td>\n",
              "      <td>0.042152</td>\n",
              "      <td>0.569873</td>\n",
              "      <td>1</td>\n",
              "      <td>0.041185</td>\n",
              "    </tr>\n",
              "    <tr>\n",
              "      <th>5850</th>\n",
              "      <td>0</td>\n",
              "      <td>0.577195</td>\n",
              "      <td>0.646915</td>\n",
              "      <td>0.634509</td>\n",
              "      <td>0.593602</td>\n",
              "      <td>0.593602</td>\n",
              "      <td>0.998903</td>\n",
              "      <td>0.798358</td>\n",
              "      <td>0.810179</td>\n",
              "      <td>0.305355</td>\n",
              "      <td>...</td>\n",
              "      <td>0.860657</td>\n",
              "      <td>3.257603e-13</td>\n",
              "      <td>0.624042</td>\n",
              "      <td>0.593600</td>\n",
              "      <td>0.843792</td>\n",
              "      <td>0.276422</td>\n",
              "      <td>0.026798</td>\n",
              "      <td>0.565193</td>\n",
              "      <td>1</td>\n",
              "      <td>0.065837</td>\n",
              "    </tr>\n",
              "    <tr>\n",
              "      <th>2624</th>\n",
              "      <td>0</td>\n",
              "      <td>0.523034</td>\n",
              "      <td>0.574738</td>\n",
              "      <td>0.573853</td>\n",
              "      <td>0.605068</td>\n",
              "      <td>0.605061</td>\n",
              "      <td>0.999038</td>\n",
              "      <td>0.797466</td>\n",
              "      <td>0.809374</td>\n",
              "      <td>0.303514</td>\n",
              "      <td>...</td>\n",
              "      <td>0.815026</td>\n",
              "      <td>1.670929e-13</td>\n",
              "      <td>0.623675</td>\n",
              "      <td>0.605068</td>\n",
              "      <td>0.841418</td>\n",
              "      <td>0.278470</td>\n",
              "      <td>0.027010</td>\n",
              "      <td>0.566023</td>\n",
              "      <td>1</td>\n",
              "      <td>0.035780</td>\n",
              "    </tr>\n",
              "    <tr>\n",
              "      <th>3468</th>\n",
              "      <td>0</td>\n",
              "      <td>0.619656</td>\n",
              "      <td>0.654056</td>\n",
              "      <td>0.676000</td>\n",
              "      <td>0.615799</td>\n",
              "      <td>0.615799</td>\n",
              "      <td>0.999296</td>\n",
              "      <td>0.797774</td>\n",
              "      <td>0.809646</td>\n",
              "      <td>0.303513</td>\n",
              "      <td>...</td>\n",
              "      <td>0.865344</td>\n",
              "      <td>9.688911e-13</td>\n",
              "      <td>0.622645</td>\n",
              "      <td>0.615799</td>\n",
              "      <td>0.843718</td>\n",
              "      <td>0.275704</td>\n",
              "      <td>0.026791</td>\n",
              "      <td>0.565160</td>\n",
              "      <td>1</td>\n",
              "      <td>0.104902</td>\n",
              "    </tr>\n",
              "    <tr>\n",
              "      <th>2305</th>\n",
              "      <td>0</td>\n",
              "      <td>0.479842</td>\n",
              "      <td>0.561982</td>\n",
              "      <td>0.531506</td>\n",
              "      <td>0.601601</td>\n",
              "      <td>0.601594</td>\n",
              "      <td>0.999030</td>\n",
              "      <td>0.797566</td>\n",
              "      <td>0.809475</td>\n",
              "      <td>0.303705</td>\n",
              "      <td>...</td>\n",
              "      <td>0.813472</td>\n",
              "      <td>3.186946e-12</td>\n",
              "      <td>0.622802</td>\n",
              "      <td>0.601599</td>\n",
              "      <td>0.841617</td>\n",
              "      <td>0.281035</td>\n",
              "      <td>0.026888</td>\n",
              "      <td>0.565582</td>\n",
              "      <td>1</td>\n",
              "      <td>0.025468</td>\n",
              "    </tr>\n",
              "    <tr>\n",
              "      <th>4537</th>\n",
              "      <td>0</td>\n",
              "      <td>0.601667</td>\n",
              "      <td>0.660543</td>\n",
              "      <td>0.649660</td>\n",
              "      <td>0.603735</td>\n",
              "      <td>0.603281</td>\n",
              "      <td>0.999064</td>\n",
              "      <td>0.797664</td>\n",
              "      <td>0.809545</td>\n",
              "      <td>0.303805</td>\n",
              "      <td>...</td>\n",
              "      <td>0.861158</td>\n",
              "      <td>2.618998e-14</td>\n",
              "      <td>0.623778</td>\n",
              "      <td>0.603729</td>\n",
              "      <td>0.844739</td>\n",
              "      <td>0.278451</td>\n",
              "      <td>0.026808</td>\n",
              "      <td>0.565239</td>\n",
              "      <td>1</td>\n",
              "      <td>0.035911</td>\n",
              "    </tr>\n",
              "    <tr>\n",
              "      <th>1594</th>\n",
              "      <td>0</td>\n",
              "      <td>0.433042</td>\n",
              "      <td>0.492205</td>\n",
              "      <td>0.479308</td>\n",
              "      <td>0.603036</td>\n",
              "      <td>0.603036</td>\n",
              "      <td>0.998945</td>\n",
              "      <td>0.797315</td>\n",
              "      <td>0.809247</td>\n",
              "      <td>0.303446</td>\n",
              "      <td>...</td>\n",
              "      <td>0.767845</td>\n",
              "      <td>3.931716e-13</td>\n",
              "      <td>0.623861</td>\n",
              "      <td>0.603036</td>\n",
              "      <td>0.837870</td>\n",
              "      <td>0.279196</td>\n",
              "      <td>0.026605</td>\n",
              "      <td>0.564084</td>\n",
              "      <td>1</td>\n",
              "      <td>0.031671</td>\n",
              "    </tr>\n",
              "  </tbody>\n",
              "</table>\n",
              "<p>10 rows × 96 columns</p>\n",
              "</div>\n",
              "      <button class=\"colab-df-convert\" onclick=\"convertToInteractive('df-bff61ee5-f723-4420-a28d-0ad8a4cdd460')\"\n",
              "              title=\"Convert this dataframe to an interactive table.\"\n",
              "              style=\"display:none;\">\n",
              "        \n",
              "  <svg xmlns=\"http://www.w3.org/2000/svg\" height=\"24px\"viewBox=\"0 0 24 24\"\n",
              "       width=\"24px\">\n",
              "    <path d=\"M0 0h24v24H0V0z\" fill=\"none\"/>\n",
              "    <path d=\"M18.56 5.44l.94 2.06.94-2.06 2.06-.94-2.06-.94-.94-2.06-.94 2.06-2.06.94zm-11 1L8.5 8.5l.94-2.06 2.06-.94-2.06-.94L8.5 2.5l-.94 2.06-2.06.94zm10 10l.94 2.06.94-2.06 2.06-.94-2.06-.94-.94-2.06-.94 2.06-2.06.94z\"/><path d=\"M17.41 7.96l-1.37-1.37c-.4-.4-.92-.59-1.43-.59-.52 0-1.04.2-1.43.59L10.3 9.45l-7.72 7.72c-.78.78-.78 2.05 0 2.83L4 21.41c.39.39.9.59 1.41.59.51 0 1.02-.2 1.41-.59l7.78-7.78 2.81-2.81c.8-.78.8-2.07 0-2.86zM5.41 20L4 18.59l7.72-7.72 1.47 1.35L5.41 20z\"/>\n",
              "  </svg>\n",
              "      </button>\n",
              "      \n",
              "  <style>\n",
              "    .colab-df-container {\n",
              "      display:flex;\n",
              "      flex-wrap:wrap;\n",
              "      gap: 12px;\n",
              "    }\n",
              "\n",
              "    .colab-df-convert {\n",
              "      background-color: #E8F0FE;\n",
              "      border: none;\n",
              "      border-radius: 50%;\n",
              "      cursor: pointer;\n",
              "      display: none;\n",
              "      fill: #1967D2;\n",
              "      height: 32px;\n",
              "      padding: 0 0 0 0;\n",
              "      width: 32px;\n",
              "    }\n",
              "\n",
              "    .colab-df-convert:hover {\n",
              "      background-color: #E2EBFA;\n",
              "      box-shadow: 0px 1px 2px rgba(60, 64, 67, 0.3), 0px 1px 3px 1px rgba(60, 64, 67, 0.15);\n",
              "      fill: #174EA6;\n",
              "    }\n",
              "\n",
              "    [theme=dark] .colab-df-convert {\n",
              "      background-color: #3B4455;\n",
              "      fill: #D2E3FC;\n",
              "    }\n",
              "\n",
              "    [theme=dark] .colab-df-convert:hover {\n",
              "      background-color: #434B5C;\n",
              "      box-shadow: 0px 1px 3px 1px rgba(0, 0, 0, 0.15);\n",
              "      filter: drop-shadow(0px 1px 2px rgba(0, 0, 0, 0.3));\n",
              "      fill: #FFFFFF;\n",
              "    }\n",
              "  </style>\n",
              "\n",
              "      <script>\n",
              "        const buttonEl =\n",
              "          document.querySelector('#df-bff61ee5-f723-4420-a28d-0ad8a4cdd460 button.colab-df-convert');\n",
              "        buttonEl.style.display =\n",
              "          google.colab.kernel.accessAllowed ? 'block' : 'none';\n",
              "\n",
              "        async function convertToInteractive(key) {\n",
              "          const element = document.querySelector('#df-bff61ee5-f723-4420-a28d-0ad8a4cdd460');\n",
              "          const dataTable =\n",
              "            await google.colab.kernel.invokeFunction('convertToInteractive',\n",
              "                                                     [key], {});\n",
              "          if (!dataTable) return;\n",
              "\n",
              "          const docLinkHtml = 'Like what you see? Visit the ' +\n",
              "            '<a target=\"_blank\" href=https://colab.research.google.com/notebooks/data_table.ipynb>data table notebook</a>'\n",
              "            + ' to learn more about interactive tables.';\n",
              "          element.innerHTML = '';\n",
              "          dataTable['output_type'] = 'display_data';\n",
              "          await google.colab.output.renderOutput(dataTable, element);\n",
              "          const docLink = document.createElement('div');\n",
              "          docLink.innerHTML = docLinkHtml;\n",
              "          element.appendChild(docLink);\n",
              "        }\n",
              "      </script>\n",
              "    </div>\n",
              "  </div>\n",
              "  "
            ]
          },
          "metadata": {},
          "execution_count": 10
        }
      ]
    },
    {
      "cell_type": "code",
      "source": [
        "\"\"\"Con ayuda de la libreria de Seaborn, observamos y \n",
        "analizamos la columna de quiebra o bancarrota de las empresas.\"\"\"\n",
        "sns.countplot(x=df['Bankrupt?'])\n",
        "plt.show()"
      ],
      "metadata": {
        "colab": {
          "base_uri": "https://localhost:8080/",
          "height": 279
        },
        "id": "F8hQOiyru2YY",
        "outputId": "a3ad718b-e04c-46a3-94b0-2762aff6156a"
      },
      "id": "F8hQOiyru2YY",
      "execution_count": 11,
      "outputs": [
        {
          "output_type": "display_data",
          "data": {
            "text/plain": [
              "<Figure size 432x288 with 1 Axes>"
            ],
            "image/png": "[encoded data removed]"
          },
          "metadata": {
            "needs_background": "light"
          }
        }
      ]
    },
    {
      "cell_type": "code",
      "source": [
        "\"\"\"El grafico anterior nos identifica un dataset desbalanceado, pues los datos \n",
        "de bancarrota 1 para la variable objetivo son muy pocos. Por esto observamos mediante \n",
        "un grafico de procentajes para analizar este factor.\"\"\"\n",
        "\n",
        "df['Bankrupt?'].value_counts().plot(kind='pie',autopct=\"%.2f\")\n",
        "plt.show()"
      ],
      "metadata": {
        "colab": {
          "base_uri": "https://localhost:8080/",
          "height": 248
        },
        "id": "jyg0qdr9wb-f",
        "outputId": "1da5d70f-7b89-41e3-d63f-b96ebde35dbc"
      },
      "id": "jyg0qdr9wb-f",
      "execution_count": 12,
      "outputs": [
        {
          "output_type": "display_data",
          "data": {
            "text/plain": [
              "<Figure size 432x288 with 1 Axes>"
            ],
            "image/png": "[encoded data removed]"
          },
          "metadata": {}
        }
      ]
    },
    {
      "cell_type": "code",
      "source": [
        "\"\"\"Del mismo modo analizamos el conteo de estos datos.\"\"\"\n",
        "df['Bankrupt?'].value_counts()"
      ],
      "metadata": {
        "colab": {
          "base_uri": "https://localhost:8080/"
        },
        "id": "ujyBGR7rvrKx",
        "outputId": "f4b62621-edb2-4c93-a03d-6c14eafbf87a"
      },
      "id": "ujyBGR7rvrKx",
      "execution_count": 13,
      "outputs": [
        {
          "output_type": "execute_result",
          "data": {
            "text/plain": [
              "0    6599\n",
              "1     220\n",
              "Name: Bankrupt?, dtype: int64"
            ]
          },
          "metadata": {},
          "execution_count": 13
        }
      ]
    },
    {
      "cell_type": "markdown",
      "source": [
        "Se observa que el dataset esta totalmente desbalanceado, pues los casos de bancarrota son muy pocos en comparacion con los de no bancarrota, es por esto que se utilizara un metodo para balancear estos datos. El metodo elegido por su eficiencia y rapidez sera la libreria smote para el balanceo de datos."
      ],
      "metadata": {
        "id": "XYi-0iP9w3ij"
      },
      "id": "XYi-0iP9w3ij"
    },
    {
      "cell_type": "code",
      "source": [
        "\"\"\"Observamos todos los datos de X y de Y\"\"\"\n",
        "\n",
        "x, y = df.drop('Bankrupt?',axis=1),df['Bankrupt?']\n",
        "x.shape,y.shape"
      ],
      "metadata": {
        "colab": {
          "base_uri": "https://localhost:8080/"
        },
        "id": "GxBMCHjtxj3Q",
        "outputId": "08fb1cbc-3e34-440b-b332-48e53de58ee9"
      },
      "id": "GxBMCHjtxj3Q",
      "execution_count": 14,
      "outputs": [
        {
          "output_type": "execute_result",
          "data": {
            "text/plain": [
              "((6819, 95), (6819,))"
            ]
          },
          "metadata": {},
          "execution_count": 14
        }
      ]
    },
    {
      "cell_type": "code",
      "source": [
        "\"\"\"Se utiliza la herramienta de smote con el hiperparametro de \n",
        "minority para que balancee los datos que tengan menos samples.\"\"\"\n",
        "\n",
        "smote = SMOTE(sampling_strategy='minority')\n",
        "x,y = smote.fit_resample(x,y)\n",
        "x.shape,y.shape"
      ],
      "metadata": {
        "colab": {
          "base_uri": "https://localhost:8080/"
        },
        "id": "nfeh7y89xj-n",
        "outputId": "bf982d7d-03f3-4108-a305-42721e85f6d1"
      },
      "id": "nfeh7y89xj-n",
      "execution_count": 15,
      "outputs": [
        {
          "output_type": "execute_result",
          "data": {
            "text/plain": [
              "((13198, 95), (13198,))"
            ]
          },
          "metadata": {},
          "execution_count": 15
        }
      ]
    },
    {
      "cell_type": "code",
      "source": [
        "\"\"\"Analizamos el conteo de la variable Y para saber si se realizo un balanceo correcto\"\"\"\n",
        "\n",
        "y.value_counts().plot(kind='pie',autopct=\"%.2f\")\n",
        "plt.show()"
      ],
      "metadata": {
        "colab": {
          "base_uri": "https://localhost:8080/",
          "height": 248
        },
        "id": "nVel59VNyJXY",
        "outputId": "9db6c326-28d5-4c8b-ae2a-d6977be0acb3"
      },
      "id": "nVel59VNyJXY",
      "execution_count": 16,
      "outputs": [
        {
          "output_type": "display_data",
          "data": {
            "text/plain": [
              "<Figure size 432x288 with 1 Axes>"
            ],
            "image/png": "[encoded data removed]"
          },
          "metadata": {}
        }
      ]
    },
    {
      "cell_type": "markdown",
      "source": [
        "Se observa un correcto ajuste de los datos, pues ahora tenemos la misma cantidad de datos para 1 y 0 en donde el modelo podra entrenarse de manera optima con todos los samples."
      ],
      "metadata": {
        "id": "jC20uzwCyY7B"
      },
      "id": "jC20uzwCyY7B"
    },
    {
      "cell_type": "markdown",
      "id": "49815fde",
      "metadata": {
        "ExecuteTime": {
          "end_time": "2022-03-14T15:56:34.366469Z",
          "start_time": "2022-03-14T15:56:34.358471Z"
        },
        "id": "49815fde"
      },
      "source": [
        "## División del dataset en datos de entrenamiento y datos de test "
      ]
    },
    {
      "cell_type": "code",
      "execution_count": 17,
      "id": "6f26d21e",
      "metadata": {
        "id": "6f26d21e",
        "colab": {
          "base_uri": "https://localhost:8080/"
        },
        "outputId": "8f3ef08c-6a25-471f-b169-db3b5fb9a971"
      },
      "outputs": [
        {
          "output_type": "execute_result",
          "data": {
            "text/plain": [
              "((9238, 95), (3960, 95), (9238,), (3960,))"
            ]
          },
          "metadata": {},
          "execution_count": 17
        }
      ],
      "source": [
        "#Código que realice la división en entrenamiento y test, de acuerdo con la estretgia de evaluación planeada. Describa cuál es.\n",
        "\n",
        "\"\"\"Se realizara la division de los datos en 4 partes con ayuda de la funcion train_test_split\"\"\"\n",
        "x_train,x_test,y_train,y_test = train_test_split(x, y, test_size=0.3)\n",
        "x_train.shape,x_test.shape,y_train.shape,y_test.shape"
      ]
    },
    {
      "cell_type": "markdown",
      "id": "6319adad",
      "metadata": {
        "id": "6319adad"
      },
      "source": [
        "## Modelamiento"
      ]
    },
    {
      "cell_type": "code",
      "execution_count": 18,
      "id": "d5d2b2c6",
      "metadata": {
        "id": "d5d2b2c6"
      },
      "outputs": [],
      "source": [
        "#Codigo del modelo\n",
        "\n",
        "\"\"\"El modelo utilizado para la prediccion en este caso sera una red neuronal artificial de dos capas.\n",
        "Una de las capas con la funcion de activacion ReLu para las 95 caracteristicas encontradas y la otra\n",
        "capa con la funcion de activacion Sigmoid la cual se activa con la variable objetivo. Asimismo se \n",
        "compila el modelo con la optimizacion del conjunto de datos ADAM y que indique el acurracy en sus ciclos\n",
        "de entrenamiento. Por ultimo se utilizara la funcion de binary_crossentropy ya que es un problema de \n",
        "clasificacion binaria.\"\"\"\n",
        "\n",
        "ann = keras.Sequential([\n",
        "    keras.layers.Dense(95,input_shape=(95,),activation='relu'),\n",
        "    keras.layers.Dense(1,activation='sigmoid')\n",
        "])\n",
        "\n",
        "ann.compile(\n",
        "    optimizer='adam',\n",
        "    metrics=['accuracy'],\n",
        "    loss='binary_crossentropy'\n",
        ")"
      ]
    },
    {
      "cell_type": "code",
      "execution_count": 19,
      "id": "33f5be2a",
      "metadata": {
        "ExecuteTime": {
          "end_time": "2022-04-25T07:21:39.020596Z",
          "start_time": "2022-04-25T07:21:39.005596Z"
        },
        "id": "33f5be2a",
        "colab": {
          "base_uri": "https://localhost:8080/"
        },
        "outputId": "8f68044e-58a8-4a1b-8d11-055dcab6e4bf"
      },
      "outputs": [
        {
          "output_type": "stream",
          "name": "stdout",
          "text": [
            "Epoch 1/50\n",
            "289/289 [==============================] - 4s 3ms/step - loss: 0.5298 - accuracy: 0.7806\n",
            "Epoch 2/50\n",
            "289/289 [==============================] - 1s 3ms/step - loss: 0.3661 - accuracy: 0.8622\n",
            "Epoch 3/50\n",
            "289/289 [==============================] - 1s 3ms/step - loss: 0.3203 - accuracy: 0.8766\n",
            "Epoch 4/50\n",
            "289/289 [==============================] - 1s 3ms/step - loss: 0.2988 - accuracy: 0.8843\n",
            "Epoch 5/50\n",
            "289/289 [==============================] - 1s 3ms/step - loss: 0.2907 - accuracy: 0.8821\n",
            "Epoch 6/50\n",
            "289/289 [==============================] - 1s 3ms/step - loss: 0.2793 - accuracy: 0.8883\n",
            "Epoch 7/50\n",
            "289/289 [==============================] - 1s 3ms/step - loss: 0.2738 - accuracy: 0.8927\n",
            "Epoch 8/50\n",
            "289/289 [==============================] - 1s 3ms/step - loss: 0.2670 - accuracy: 0.8925\n",
            "Epoch 9/50\n",
            "289/289 [==============================] - 1s 3ms/step - loss: 0.2608 - accuracy: 0.8960\n",
            "Epoch 10/50\n",
            "289/289 [==============================] - 1s 3ms/step - loss: 0.2592 - accuracy: 0.8966\n",
            "Epoch 11/50\n",
            "289/289 [==============================] - 1s 3ms/step - loss: 0.2577 - accuracy: 0.8967\n",
            "Epoch 12/50\n",
            "289/289 [==============================] - 1s 3ms/step - loss: 0.2513 - accuracy: 0.8992\n",
            "Epoch 13/50\n",
            "289/289 [==============================] - 1s 2ms/step - loss: 0.2471 - accuracy: 0.9012\n",
            "Epoch 14/50\n",
            "289/289 [==============================] - 1s 3ms/step - loss: 0.2412 - accuracy: 0.9040\n",
            "Epoch 15/50\n",
            "289/289 [==============================] - 1s 2ms/step - loss: 0.2356 - accuracy: 0.9051\n",
            "Epoch 16/50\n",
            "289/289 [==============================] - 1s 3ms/step - loss: 0.2328 - accuracy: 0.9090\n",
            "Epoch 17/50\n",
            "289/289 [==============================] - 1s 3ms/step - loss: 0.2299 - accuracy: 0.9098\n",
            "Epoch 18/50\n",
            "289/289 [==============================] - 1s 2ms/step - loss: 0.2266 - accuracy: 0.9141\n",
            "Epoch 19/50\n",
            "289/289 [==============================] - 1s 3ms/step - loss: 0.2193 - accuracy: 0.9170\n",
            "Epoch 20/50\n",
            "289/289 [==============================] - 1s 2ms/step - loss: 0.2206 - accuracy: 0.9185\n",
            "Epoch 21/50\n",
            "289/289 [==============================] - 1s 3ms/step - loss: 0.2163 - accuracy: 0.9186\n",
            "Epoch 22/50\n",
            "289/289 [==============================] - 1s 3ms/step - loss: 0.2107 - accuracy: 0.9203\n",
            "Epoch 23/50\n",
            "289/289 [==============================] - 1s 3ms/step - loss: 0.2073 - accuracy: 0.9247\n",
            "Epoch 24/50\n",
            "289/289 [==============================] - 1s 3ms/step - loss: 0.2064 - accuracy: 0.9263\n",
            "Epoch 25/50\n",
            "289/289 [==============================] - 1s 3ms/step - loss: 0.2012 - accuracy: 0.9283\n",
            "Epoch 26/50\n",
            "289/289 [==============================] - 1s 3ms/step - loss: 0.2044 - accuracy: 0.9241\n",
            "Epoch 27/50\n",
            "289/289 [==============================] - 1s 3ms/step - loss: 0.1938 - accuracy: 0.9319\n",
            "Epoch 28/50\n",
            "289/289 [==============================] - 1s 3ms/step - loss: 0.1949 - accuracy: 0.9317\n",
            "Epoch 29/50\n",
            "289/289 [==============================] - 1s 3ms/step - loss: 0.1904 - accuracy: 0.9319\n",
            "Epoch 30/50\n",
            "289/289 [==============================] - 1s 2ms/step - loss: 0.1863 - accuracy: 0.9338\n",
            "Epoch 31/50\n",
            "289/289 [==============================] - 1s 3ms/step - loss: 0.1863 - accuracy: 0.9327\n",
            "Epoch 32/50\n",
            "289/289 [==============================] - 1s 3ms/step - loss: 0.1819 - accuracy: 0.9371\n",
            "Epoch 33/50\n",
            "289/289 [==============================] - 1s 2ms/step - loss: 0.1791 - accuracy: 0.9393\n",
            "Epoch 34/50\n",
            "289/289 [==============================] - 1s 2ms/step - loss: 0.1794 - accuracy: 0.9386\n",
            "Epoch 35/50\n",
            "289/289 [==============================] - 1s 3ms/step - loss: 0.1754 - accuracy: 0.9414\n",
            "Epoch 36/50\n",
            "289/289 [==============================] - 1s 3ms/step - loss: 0.1744 - accuracy: 0.9417\n",
            "Epoch 37/50\n",
            "289/289 [==============================] - 1s 3ms/step - loss: 0.1733 - accuracy: 0.9426\n",
            "Epoch 38/50\n",
            "289/289 [==============================] - 1s 3ms/step - loss: 0.1721 - accuracy: 0.9435\n",
            "Epoch 39/50\n",
            "289/289 [==============================] - 1s 3ms/step - loss: 0.1689 - accuracy: 0.9446\n",
            "Epoch 40/50\n",
            "289/289 [==============================] - 1s 3ms/step - loss: 0.1679 - accuracy: 0.9418\n",
            "Epoch 41/50\n",
            "289/289 [==============================] - 1s 3ms/step - loss: 0.1699 - accuracy: 0.9408\n",
            "Epoch 42/50\n",
            "289/289 [==============================] - 1s 3ms/step - loss: 0.1612 - accuracy: 0.9457\n",
            "Epoch 43/50\n",
            "289/289 [==============================] - 1s 3ms/step - loss: 0.1601 - accuracy: 0.9479\n",
            "Epoch 44/50\n",
            "289/289 [==============================] - 1s 3ms/step - loss: 0.1576 - accuracy: 0.9477\n",
            "Epoch 45/50\n",
            "289/289 [==============================] - 1s 3ms/step - loss: 0.1584 - accuracy: 0.9483\n",
            "Epoch 46/50\n",
            "289/289 [==============================] - 1s 3ms/step - loss: 0.1588 - accuracy: 0.9472\n",
            "Epoch 47/50\n",
            "289/289 [==============================] - 1s 3ms/step - loss: 0.1563 - accuracy: 0.9473\n",
            "Epoch 48/50\n",
            "289/289 [==============================] - 1s 3ms/step - loss: 0.1529 - accuracy: 0.9494\n",
            "Epoch 49/50\n",
            "289/289 [==============================] - 1s 3ms/step - loss: 0.1511 - accuracy: 0.9488\n",
            "Epoch 50/50\n",
            "289/289 [==============================] - 1s 3ms/step - loss: 0.1504 - accuracy: 0.9505\n"
          ]
        },
        {
          "output_type": "execute_result",
          "data": {
            "text/plain": [
              "<keras.callbacks.History at 0x7f570a510090>"
            ]
          },
          "metadata": {},
          "execution_count": 19
        }
      ],
      "source": [
        "#Entrenamiento\n",
        "\n",
        "\"\"\"Se realiza el entrenamiento del modelo con la funcion fit() y las variables creadas anteriormente\"\"\"\n",
        "ann.fit(x_train,y_train,epochs=50)"
      ]
    },
    {
      "cell_type": "code",
      "execution_count": 20,
      "id": "a2e675b3",
      "metadata": {
        "id": "a2e675b3",
        "colab": {
          "base_uri": "https://localhost:8080/"
        },
        "outputId": "f623d316-9fca-49d9-fd1c-4cf624428aee"
      },
      "outputs": [
        {
          "output_type": "stream",
          "name": "stdout",
          "text": [
            "124/124 [==============================] - 1s 3ms/step - loss: 0.1762 - accuracy: 0.9386\n"
          ]
        },
        {
          "output_type": "execute_result",
          "data": {
            "text/plain": [
              "[0.17620116472244263, 0.9386363625526428]"
            ]
          },
          "metadata": {},
          "execution_count": 20
        }
      ],
      "source": [
        "#Test\n",
        "\n",
        "\"\"\"Se evalua el modelo con las variables de test creadas y la funcion evaluate().\"\"\"\n",
        "ann.evaluate(x_test,y_test)"
      ]
    },
    {
      "cell_type": "markdown",
      "id": "9c2239f5",
      "metadata": {
        "id": "9c2239f5"
      },
      "source": [
        "## Evaluación del Modelo"
      ]
    },
    {
      "cell_type": "code",
      "source": [
        "\n",
        "def predict(model,x):\n",
        "    pred  = ann.predict(x)\n",
        "    pred[pred >= 0.5] = 1\n",
        "    pred[pred < 0.5] = 0\n",
        "    return pred\n",
        "\n",
        "def predict_graph(y_true,y_pred,title):\n",
        "    cm = confusion_matrix(y_true,y_pred)\n",
        "    plt.figure(figsize=(7,7))\n",
        "    sns.heatmap(cm,annot=True,fmt='g',cmap=\"YlGnBu\",\n",
        "                xticklabels=['No bancarrota','Bancarrota'],yticklabels=['No bancarrota','Bancarrota'])\n",
        "    plt.title(title)\n",
        "    plt.show()\n",
        "    \n",
        "    print(\"\\n\")\n",
        "    print(\"Reporte:\")\n",
        "    print(classification_report(y_true,y_pred))"
      ],
      "metadata": {
        "id": "FqUTCcg73Z_8"
      },
      "id": "FqUTCcg73Z_8",
      "execution_count": 21,
      "outputs": []
    },
    {
      "cell_type": "code",
      "source": [
        "y_test_pred = predict(ann,x_test)\n",
        "predict_graph(y_test,y_test_pred,'Prediccion del modelo entrenado con datos Test.')"
      ],
      "metadata": {
        "colab": {
          "base_uri": "https://localhost:8080/",
          "height": 650
        },
        "id": "vuUR2tbT3pS_",
        "outputId": "0ba97623-52a6-4e3b-edf4-77914f5d0099"
      },
      "id": "vuUR2tbT3pS_",
      "execution_count": 24,
      "outputs": [
        {
          "output_type": "display_data",
          "data": {
            "text/plain": [
              "<Figure size 504x504 with 2 Axes>"
            ],
            "image/png": "[encoded data removed]"
          },
          "metadata": {
            "needs_background": "light"
          }
        },
        {
          "output_type": "stream",
          "name": "stdout",
          "text": [
            "\n",
            "\n",
            "Reporte:\n",
            "              precision    recall  f1-score   support\n",
            "\n",
            "           0       0.98      0.89      0.94      2011\n",
            "           1       0.90      0.98      0.94      1949\n",
            "\n",
            "    accuracy                           0.94      3960\n",
            "   macro avg       0.94      0.94      0.94      3960\n",
            "weighted avg       0.94      0.94      0.94      3960\n",
            "\n"
          ]
        }
      ]
    },
    {
      "cell_type": "markdown",
      "id": "ad219a0c",
      "metadata": {
        "id": "ad219a0c"
      },
      "source": [
        "Construya un o dos párrafos con los principales hallazgos. Cómo está funcionando el modelo? Calidad en los resultados de predicción. "
      ]
    },
    {
      "cell_type": "code",
      "execution_count": null,
      "id": "28b14a2f",
      "metadata": {
        "id": "28b14a2f"
      },
      "outputs": [],
      "source": [
        ""
      ]
    },
    {
      "cell_type": "markdown",
      "id": "822ff948",
      "metadata": {
        "id": "822ff948"
      },
      "source": [
        "# Interpretación de Resultados"
      ]
    },
    {
      "cell_type": "code",
      "execution_count": null,
      "id": "16f57562",
      "metadata": {
        "id": "16f57562"
      },
      "outputs": [],
      "source": [
        ""
      ]
    }
  ],
  "metadata": {
    "kernelspec": {
      "display_name": "Python 3 (ipykernel)",
      "language": "python",
      "name": "python3"
    },
    "language_info": {
      "codemirror_mode": {
        "name": "ipython",
        "version": 3
      },
      "file_extension": ".py",
      "mimetype": "text/x-python",
      "name": "python",
      "nbconvert_exporter": "python",
      "pygments_lexer": "ipython3",
      "version": "3.9.7"
    },
    "toc": {
      "base_numbering": 1,
      "nav_menu": {},
      "number_sections": true,
      "sideBar": true,
      "skip_h1_title": true,
      "title_cell": "Tabla de Contenido",
      "title_sidebar": "Contenido",
      "toc_cell": false,
      "toc_position": {
        "height": "calc(100% - 180px)",
        "left": "10px",
        "top": "150px",
        "width": "263.591px"
      },
      "toc_section_display": true,
      "toc_window_display": true
    },
    "colab": {
      "name": "[NRC_6262]_XavierGranda_PopQuiz1.ipynb",
      "provenance": [],
      "collapsed_sections": []
    },
    "accelerator": "GPU",
    "gpuClass": "standard"
  },
  "nbformat": 4,
  "nbformat_minor": 5
}